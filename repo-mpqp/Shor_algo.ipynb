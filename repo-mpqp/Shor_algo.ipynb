{
  "cells": [
    {
      "cell_type": "code",
      "execution_count": 1,
      "metadata": {},
      "outputs": [
        {
          "name": "stdout",
          "output_type": "stream",
          "text": [
            "/Users/yohannedde/Documents/Epita/Quantum/mpqp/Shor/repo-mpqp/mpqp/__init__.py\n"
          ]
        }
      ],
      "source": [
        "import mpqp\n",
        "print(mpqp.__file__)"
      ]
    },
    {
      "cell_type": "code",
      "execution_count": 2,
      "metadata": {
        "id": "gUdXLS06lLEz"
      },
      "outputs": [],
      "source": [
        "from mpqp import QCircuit, Barrier\n",
        "from mpqp.gates import H, X, Y, Z, CNOT, CZ, Id, CRk, SWAP, T\n",
        "from mpqp.measures import BasisMeasure, I, X as Pauli_X, Y as Pauli_Y, Z as Pauli_Z, PauliString\n",
        "from mpqp.execution import run, IBMDevice, ATOSDevice, AWSDevice\n",
        "from mpqp.noise import Depolarizing\n",
        "from mpqp.core.languages import Language\n",
        "\n",
        "from math import floor"
      ]
    },
    {
      "cell_type": "code",
      "execution_count": 3,
      "metadata": {},
      "outputs": [
        {
          "name": "stdout",
          "output_type": "stream",
          "text": [
            "                                                          ░               »\n",
            "q_0: ─────────────────────────────────────────────────────░───────────────»\n",
            "                                                          ░               »\n",
            "q_1: ─────────────────────────────────────────────────────░───────────────»\n",
            "     ┌───┐                                                ░               »\n",
            "q_2: ┤ H ├─■────────■────────■────────■─────────■─────────░───────────────»\n",
            "     └───┘ │P(π/2)  │        │        │         │         ░ ┌───┐         »\n",
            "q_3: ──────■────────┼────────┼────────┼─────────┼─────────░─┤ H ├─■───────»\n",
            "                    │P(π/4)  │        │         │         ░ └───┘ │P(π/4) »\n",
            "q_4: ───────────────■────────┼────────┼─────────┼─────────░───────■───────»\n",
            "                             │P(π/8)  │         │         ░               »\n",
            "q_5: ────────────────────────■────────┼─────────┼─────────░───────────────»\n",
            "                                      │P(π/16)  │         ░               »\n",
            "q_6: ─────────────────────────────────■─────────┼─────────░───────────────»\n",
            "                                                │P(π/32)  ░               »\n",
            "q_7: ───────────────────────────────────────────■─────────░───────────────»\n",
            "                                                          ░               »\n",
            "«                                   ░                                    ░ »\n",
            "«q_0: ──────────────────────────────░────────────────────────────────────░─»\n",
            "«                                   ░                                    ░ »\n",
            "«q_1: ──────────────────────────────░────────────────────────────────────░─»\n",
            "«                                   ░                                    ░ »\n",
            "«q_2: ──────────────────────────────░────────────────────────────────────░─»\n",
            "«                                   ░                                    ░ »\n",
            "«q_3: ─■────────■─────────■─────────░────────────────────────────────────░─»\n",
            "«      │        │         │         ░ ┌───┐                              ░ »\n",
            "«q_4: ─┼────────┼─────────┼─────────░─┤ H ├─■────────■─────────■─────────░─»\n",
            "«      │P(π/8)  │         │         ░ └───┘ │P(π/8)  │         │         ░ »\n",
            "«q_5: ─■────────┼─────────┼─────────░───────■────────┼─────────┼─────────░─»\n",
            "«               │P(π/16)  │         ░                │P(π/16)  │         ░ »\n",
            "«q_6: ──────────■─────────┼─────────░────────────────■─────────┼─────────░─»\n",
            "«                         │P(π/32)  ░                          │P(π/32)  ░ »\n",
            "«q_7: ────────────────────■─────────░──────────────────────────■─────────░─»\n",
            "«                                   ░                                    ░ »\n",
            "«                               ░                 ░       ░          \n",
            "«q_0: ──────────────────────────░─────────────────░───────░──────────\n",
            "«                               ░                 ░       ░          \n",
            "«q_1: ──────────────────────────░─────────────────░───────░──────────\n",
            "«                               ░                 ░       ░          \n",
            "«q_2: ──────────────────────────░─────────────────░───────░──X───────\n",
            "«                               ░                 ░       ░  │       \n",
            "«q_3: ──────────────────────────░─────────────────░───────░──┼──X────\n",
            "«                               ░                 ░       ░  │  │    \n",
            "«q_4: ──────────────────────────░─────────────────░───────░──┼──┼──X─\n",
            "«     ┌───┐                     ░                 ░       ░  │  │  │ \n",
            "«q_5: ┤ H ├─■─────────■─────────░─────────────────░───────░──┼──┼──X─\n",
            "«     └───┘ │P(π/16)  │         ░ ┌───┐           ░       ░  │  │    \n",
            "«q_6: ──────■─────────┼─────────░─┤ H ├─■─────────░───────░──┼──X────\n",
            "«                     │P(π/32)  ░ └───┘ │P(π/32)  ░ ┌───┐ ░  │       \n",
            "«q_7: ────────────────■─────────░───────■─────────░─┤ H ├─░──X───────\n",
            "«                               ░                 ░ └───┘ ░          \n"
          ]
        }
      ],
      "source": [
        "from mpqp.execution.algorithms.shor.quantum.qft import QFT\n",
        "\n",
        "print(QFT(range(2, 8)))"
      ]
    },
    {
      "cell_type": "code",
      "execution_count": 4,
      "metadata": {
        "colab": {
          "base_uri": "https://localhost:8080/"
        },
        "id": "4jI_B0LjlVYv",
        "outputId": "bf28ed39-ef1f-457c-b048-cdb9055260ed"
      },
      "outputs": [
        {
          "name": "stdout",
          "output_type": "stream",
          "text": [
            "     ┌───┐                                      ░                        »\n",
            "q_0: ┤ H ├─■────────■────────■────────■─────────░────────────────────────»\n",
            "     └───┘ │P(π/2)  │        │        │         ░ ┌───┐                  »\n",
            "q_1: ──────■────────┼────────┼────────┼─────────░─┤ H ├─■────────■───────»\n",
            "                    │P(π/4)  │        │         ░ └───┘ │P(π/4)  │       »\n",
            "q_2: ───────────────■────────┼────────┼─────────░───────■────────┼───────»\n",
            "                             │P(π/8)  │         ░                │P(π/8) »\n",
            "q_3: ────────────────────────■────────┼─────────░────────────────■───────»\n",
            "                                      │P(π/16)  ░                        »\n",
            "q_4: ─────────────────────────────────■─────────░────────────────────────»\n",
            "                                                ░                        »\n",
            "«                ░                          ░                 ░       ░       \n",
            "«q_0: ───────────░──────────────────────────░─────────────────░───────░──X────\n",
            "«                ░                          ░                 ░       ░  │    \n",
            "«q_1: ─■─────────░──────────────────────────░─────────────────░───────░──┼──X─\n",
            "«      │         ░ ┌───┐                    ░                 ░       ░  │  │ \n",
            "«q_2: ─┼─────────░─┤ H ├─■────────■─────────░─────────────────░───────░──┼──┼─\n",
            "«      │         ░ └───┘ │P(π/8)  │         ░ ┌───┐           ░       ░  │  │ \n",
            "«q_3: ─┼─────────░───────■────────┼─────────░─┤ H ├─■─────────░───────░──┼──X─\n",
            "«      │P(π/16)  ░                │P(π/16)  ░ └───┘ │P(π/16)  ░ ┌───┐ ░  │    \n",
            "«q_4: ─■─────────░────────────────■─────────░───────■─────────░─┤ H ├─░──X────\n",
            "«                ░                          ░                 ░ └───┘ ░       \n"
          ]
        }
      ],
      "source": [
        "print(QFT(range(5)))"
      ]
    },
    {
      "cell_type": "code",
      "execution_count": 5,
      "metadata": {
        "colab": {
          "base_uri": "https://localhost:8080/"
        },
        "id": "zQ0wOc1gbx3Z",
        "outputId": "213907f0-76df-451a-83c0-4327dc4024a6"
      },
      "outputs": [
        {
          "name": "stdout",
          "output_type": "stream",
          "text": [
            "Result: IBMDevice, AER_SIMULATOR\n",
            "  State vector: [0.70711, 0.70711]\n",
            "  Probabilities: [0.5, 0.5]\n",
            "  Number of qubits: 1\n",
            "Result: IBMDevice, AER_SIMULATOR\n",
            "  State vector: [0.25, 0.25, 0.25, 0.25, 0.25, 0.25, 0.25, 0.25, 0.25, 0.25, 0.25, 0.25, 0.25, 0.25, 0.25, 0.25]\n",
            "  Probabilities: [0.0625, 0.0625, 0.0625, 0.0625, 0.0625, 0.0625, 0.0625, 0.0625, 0.0625, 0.0625, 0.0625, 0.0625, 0.0625, 0.0625, 0.0625, 0.0625]\n",
            "  Number of qubits: 4\n",
            "Result: IBMDevice, AER_SIMULATOR\n",
            "  State vector: [0.0625, 0.0625, 0.0625, 0.0625, 0.0625, 0.0625, 0.0625, 0.0625, 0.0625, 0.0625, 0.0625, 0.0625, 0.0625, 0.0625, 0.0625, 0.0625, 0.0625, 0.0625, 0.0625, 0.0625, 0.0625, 0.0625, 0.0625, 0.0625, 0.0625, 0.0625, 0.0625, 0.0625, 0.0625, 0.0625, 0.0625, 0.0625, 0.0625, 0.0625, 0.0625, 0.0625, 0.0625, 0.0625, 0.0625, 0.0625, 0.0625, 0.0625, 0.0625, 0.0625, 0.0625, 0.0625, 0.0625, 0.0625, 0.0625, 0.0625, 0.0625, 0.0625, 0.0625, 0.0625, 0.0625, 0.0625, 0.0625, 0.0625, 0.0625, 0.0625, 0.0625, 0.0625, 0.0625, 0.0625, 0.0625, 0.0625, 0.0625, 0.0625, 0.0625, 0.0625, 0.0625, 0.0625, 0.0625, 0.0625, 0.0625, 0.0625, 0.0625, 0.0625, 0.0625, 0.0625, 0.0625, 0.0625, 0.0625, 0.0625, 0.0625, 0.0625, 0.0625, 0.0625, 0.0625, 0.0625, 0.0625, 0.0625, 0.0625, 0.0625, 0.0625, 0.0625, 0.0625, 0.0625, 0.0625, 0.0625, 0.0625, 0.0625, 0.0625, 0.0625, 0.0625, 0.0625, 0.0625, 0.0625, 0.0625, 0.0625, 0.0625, 0.0625, 0.0625, 0.0625, 0.0625, 0.0625, 0.0625, 0.0625, 0.0625, 0.0625, 0.0625, 0.0625, 0.0625, 0.0625, 0.0625, 0.0625, 0.0625, 0.0625, 0.0625, 0.0625, 0.0625, 0.0625, 0.0625, 0.0625, 0.0625, 0.0625, 0.0625, 0.0625, 0.0625, 0.0625, 0.0625, 0.0625, 0.0625, 0.0625, 0.0625, 0.0625, 0.0625, 0.0625, 0.0625, 0.0625, 0.0625, 0.0625, 0.0625, 0.0625, 0.0625, 0.0625, 0.0625, 0.0625, 0.0625, 0.0625, 0.0625, 0.0625, 0.0625, 0.0625, 0.0625, 0.0625, 0.0625, 0.0625, 0.0625, 0.0625, 0.0625, 0.0625, 0.0625, 0.0625, 0.0625, 0.0625, 0.0625, 0.0625, 0.0625, 0.0625, 0.0625, 0.0625, 0.0625, 0.0625, 0.0625, 0.0625, 0.0625, 0.0625, 0.0625, 0.0625, 0.0625, 0.0625, 0.0625, 0.0625, 0.0625, 0.0625, 0.0625, 0.0625, 0.0625, 0.0625, 0.0625, 0.0625, 0.0625, 0.0625, 0.0625, 0.0625, 0.0625, 0.0625, 0.0625, 0.0625, 0.0625, 0.0625, 0.0625, 0.0625, 0.0625, 0.0625, 0.0625, 0.0625, 0.0625, 0.0625, 0.0625, 0.0625, 0.0625, 0.0625, 0.0625, 0.0625, 0.0625, 0.0625, 0.0625, 0.0625, 0.0625, 0.0625, 0.0625, 0.0625, 0.0625, 0.0625, 0.0625, 0.0625, 0.0625, 0.0625, 0.0625, 0.0625, 0.0625, 0.0625, 0.0625, 0.0625, 0.0625, 0.0625, 0.0625, 0.0625, 0.0625, 0.0625, 0.0625, 0.0625, 0.0625, 0.0625]\n",
            "  Probabilities: [0.00391, 0.00391, 0.00391, 0.00391, 0.00391, 0.00391, 0.00391, 0.00391, 0.00391, 0.00391, 0.00391, 0.00391, 0.00391, 0.00391, 0.00391, 0.00391, 0.00391, 0.00391, 0.00391, 0.00391, 0.00391, 0.00391, 0.00391, 0.00391, 0.00391, 0.00391, 0.00391, 0.00391, 0.00391, 0.00391, 0.00391, 0.00391, 0.00391, 0.00391, 0.00391, 0.00391, 0.00391, 0.00391, 0.00391, 0.00391, 0.00391, 0.00391, 0.00391, 0.00391, 0.00391, 0.00391, 0.00391, 0.00391, 0.00391, 0.00391, 0.00391, 0.00391, 0.00391, 0.00391, 0.00391, 0.00391, 0.00391, 0.00391, 0.00391, 0.00391, 0.00391, 0.00391, 0.00391, 0.00391, 0.00391, 0.00391, 0.00391, 0.00391, 0.00391, 0.00391, 0.00391, 0.00391, 0.00391, 0.00391, 0.00391, 0.00391, 0.00391, 0.00391, 0.00391, 0.00391, 0.00391, 0.00391, 0.00391, 0.00391, 0.00391, 0.00391, 0.00391, 0.00391, 0.00391, 0.00391, 0.00391, 0.00391, 0.00391, 0.00391, 0.00391, 0.00391, 0.00391, 0.00391, 0.00391, 0.00391, 0.00391, 0.00391, 0.00391, 0.00391, 0.00391, 0.00391, 0.00391, 0.00391, 0.00391, 0.00391, 0.00391, 0.00391, 0.00391, 0.00391, 0.00391, 0.00391, 0.00391, 0.00391, 0.00391, 0.00391, 0.00391, 0.00391, 0.00391, 0.00391, 0.00391, 0.00391, 0.00391, 0.00391, 0.00391, 0.00391, 0.00391, 0.00391, 0.00391, 0.00391, 0.00391, 0.00391, 0.00391, 0.00391, 0.00391, 0.00391, 0.00391, 0.00391, 0.00391, 0.00391, 0.00391, 0.00391, 0.00391, 0.00391, 0.00391, 0.00391, 0.00391, 0.00391, 0.00391, 0.00391, 0.00391, 0.00391, 0.00391, 0.00391, 0.00391, 0.00391, 0.00391, 0.00391, 0.00391, 0.00391, 0.00391, 0.00391, 0.00391, 0.00391, 0.00391, 0.00391, 0.00391, 0.00391, 0.00391, 0.00391, 0.00391, 0.00391, 0.00391, 0.00391, 0.00391, 0.00391, 0.00391, 0.00391, 0.00391, 0.00391, 0.00391, 0.00391, 0.00391, 0.00391, 0.00391, 0.00391, 0.00391, 0.00391, 0.00391, 0.00391, 0.00391, 0.00391, 0.00391, 0.00391, 0.00391, 0.00391, 0.00391, 0.00391, 0.00391, 0.00391, 0.00391, 0.00391, 0.00391, 0.00391, 0.00391, 0.00391, 0.00391, 0.00391, 0.00391, 0.00391, 0.00391, 0.00391, 0.00391, 0.00391, 0.00391, 0.00391, 0.00391, 0.00391, 0.00391, 0.00391, 0.00391, 0.00391, 0.00391, 0.00391, 0.00391, 0.00391, 0.00391, 0.00391, 0.00391, 0.00391, 0.00391, 0.00391, 0.00391, 0.00391, 0.00391, 0.00391, 0.00391, 0.00391, 0.00391, 0.00391, 0.00391, 0.00391, 0.00391, 0.00391, 0.00391, 0.00391, 0.00391, 0.00391, 0.00391, 0.00391, 0.00391, 0.00391]\n",
            "  Number of qubits: 8\n",
            "Result: IBMDevice, AER_SIMULATOR\n",
            "  State vector: [1, 0]\n",
            "  Probabilities: [1, 0]\n",
            "  Number of qubits: 1\n"
          ]
        }
      ],
      "source": [
        "#QFT on 1 qubit <=> H\n",
        "circuit = QFT(range(1))\n",
        "print(run(circuit, IBMDevice.AER_SIMULATOR))\n",
        "\n",
        "#QFT on 2^2 qubits <=> H x H\n",
        "circuit = QFT(range(2**2))\n",
        "print(run(circuit, IBMDevice.AER_SIMULATOR))\n",
        "\n",
        "#QFT on 2^3 qubits <=> H x H x H\n",
        "circuit = QFT(range(2**3))\n",
        "print(run(circuit, IBMDevice.AER_SIMULATOR))\n",
        "\n",
        "#QFT then QFT-1 <=> identity\n",
        "circuit = QFT(range(1)) + QFT(range(1)).inverse()\n",
        "print(run(circuit, IBMDevice.AER_SIMULATOR))"
      ]
    },
    {
      "cell_type": "code",
      "execution_count": 6,
      "metadata": {
        "colab": {
          "base_uri": "https://localhost:8080/"
        },
        "id": "aqZIVNJClXAB",
        "outputId": "af63d472-8452-4054-e13e-8db3c9a38ef4"
      },
      "outputs": [
        {
          "name": "stdout",
          "output_type": "stream",
          "text": [
            "                   \n",
            "q_0: ──────────────\n",
            "     ┌────────────┐\n",
            "q_1: ┤2           ├\n",
            "     │            │\n",
            "q_2: ┤1 Control-X ├\n",
            "     │            │\n",
            "q_3: ┤0           ├\n",
            "     └────────────┘\n"
          ]
        }
      ],
      "source": [
        "from mpqp.gates import Gate, ControlledGate, CustomGate, UnitaryMatrix\n",
        "from mpqp.measures import BasisMeasure\n",
        "\n",
        "import numpy as np\n",
        "\n",
        "# n: the number of qubits\n",
        "# U should be operate on the target 'target'\n",
        "\n",
        "def control_U(U: Gate, control: int, target: int) -> Gate:\n",
        "  assert target > control\n",
        "  n = target  - control + 1\n",
        "  In = np.eye(2**(n - 1))\n",
        "  In_1 = np.eye(2**(n - 2))\n",
        "  On = np.zeros((2**(n - 1), 2**(n - 1)))\n",
        "  U_matrix = U.to_matrix()\n",
        "\n",
        "  Control_U_matrix = np.block([\n",
        "    [In, On],\n",
        "    [On, np.kron(In_1, U_matrix)]\n",
        "    ])\n",
        "\n",
        "  targets = [i for i in range(control, target + 1)]\n",
        "\n",
        "  return CustomGate(UnitaryMatrix(Control_U_matrix), targets, 'Control-' + U.label)\n",
        "\n",
        "print(control_U(X(3), 1, 3))\n",
        "\n",
        "def qpe(eigenstate, U: Gate, n: int):\n",
        "  #Prepare state\n",
        "  circuit1 = QCircuit.initializer(eigenstate)\n",
        "  circuit1.add(Barrier())\n",
        "  circuit2 = QCircuit(n)\n",
        "  circuit_final = circuit2 @ circuit1 #Eigenstate is the last qubit\n",
        "  for i in range(n):\n",
        "    circuit_final.add(H(i))\n",
        "  for i in range(n):\n",
        "    circuit_final.add(control_U(U(n), n - i - 1, n).power(2**i))\n",
        "  circuit_final.add(Barrier())\n",
        "  #QFT not QFT inverse (see MAGNIEZ Lecture Notes)\n",
        "  circuit_final += QFT(range(n))\n",
        "  circuit_final.add(BasisMeasure(list(range(n)), shots=10000))\n",
        "  return circuit_final"
      ]
    },
    {
      "cell_type": "code",
      "execution_count": 7,
      "metadata": {
        "id": "c2-8CIVf33Ij"
      },
      "outputs": [],
      "source": [
        "from mpqp.execution import Result\n",
        "\n",
        "# Retreive the state with the higher probability\n",
        "def getBestGuess(res: Result) -> int:\n",
        "  bestGuess = 0\n",
        "  proba = 0\n",
        "  for i in range(len(res.samples)):\n",
        "    if (res.samples[i].probability > proba):\n",
        "      bestGuess = res.samples[i].index\n",
        "      proba = res.samples[i].probability\n",
        "  return bestGuess"
      ]
    },
    {
      "cell_type": "code",
      "execution_count": 8,
      "metadata": {
        "id": "n7vy172t76Jb"
      },
      "outputs": [],
      "source": [
        "# Recursive function of \"toBinaryRepresentation\"\n",
        "def toBinaryRepresentationIter(n: int, res: list[int]):\n",
        "  if (n == 1):\n",
        "    return [1] + res\n",
        "  return toBinaryRepresentationIter(n // 2, [n % 2] + res)\n",
        "\n",
        "# Convert an integer into this binary representation\n",
        "def toBinaryRepresentation(n: int):\n",
        "  return toBinaryRepresentationIter(n, [])\n",
        "\n",
        "assert toBinaryRepresentation(3) == [1, 1]\n",
        "assert toBinaryRepresentation(2) == [1, 0]\n",
        "assert toBinaryRepresentation(8) == [1, 0, 0, 0]\n",
        "assert toBinaryRepresentation(9) == [1, 0, 0, 1]\n",
        "\n",
        "def toPhase(n: int, res: Result):\n",
        "  bestGuess = getBestGuess(res)\n",
        "  binary_representation = toBinaryRepresentation(bestGuess)\n",
        "  sum = 0\n",
        "  for j in range(n):\n",
        "    sum += binary_representation[n - j - 1] * 2**j\n",
        "  return sum / (2**n)\n",
        "\n",
        "from math import pi\n",
        "from cmath import exp\n",
        "\n",
        "def toEigenValue(n: int, res: Result):\n",
        "  return exp(2 * pi * 1.j * toPhase(n, res))\n"
      ]
    },
    {
      "cell_type": "code",
      "execution_count": 9,
      "metadata": {
        "colab": {
          "base_uri": "https://localhost:8080/"
        },
        "id": "I5v8L1hbPpWh",
        "outputId": "b71104c0-443a-4594-9b11-0f0815bc6d79"
      },
      "outputs": [
        {
          "name": "stdout",
          "output_type": "stream",
          "text": [
            "     ┌────────────┐┌─┐         \n",
            "q_0: ┤3           ├┤M├─────────\n",
            "     │            │└╥┘┌─┐      \n",
            "q_1: ┤2           ├─╫─┤M├──────\n",
            "     │  Control-X │ ║ └╥┘┌─┐   \n",
            "q_2: ┤1           ├─╫──╫─┤M├───\n",
            "     │            │ ║  ║ └╥┘┌─┐\n",
            "q_3: ┤0           ├─╫──╫──╫─┤M├\n",
            "     └────────────┘ ║  ║  ║ └╥┘\n",
            "c: 4/═══════════════╩══╩══╩══╩═\n",
            "                    0  1  2  3 \n",
            "Result: IBMDevice, AER_SIMULATOR\n",
            "  Counts: [1024, 0, 0, 0, 0, 0, 0, 0, 0, 0, 0, 0, 0, 0, 0, 0]\n",
            "  Probabilities: [1, 0, 0, 0, 0, 0, 0, 0, 0, 0, 0, 0, 0, 0, 0, 0]\n",
            "  Samples:\n",
            "    State: 0000, Index: 0, Count: 1024, Probability: 1\n",
            "  Error: None\n",
            "     ┌───┐┌────────────┐┌─┐         \n",
            "q_0: ┤ X ├┤3           ├┤M├─────────\n",
            "     └───┘│            │└╥┘┌─┐      \n",
            "q_1: ─────┤2           ├─╫─┤M├──────\n",
            "          │  Control-X │ ║ └╥┘┌─┐   \n",
            "q_2: ─────┤1           ├─╫──╫─┤M├───\n",
            "          │            │ ║  ║ └╥┘┌─┐\n",
            "q_3: ─────┤0           ├─╫──╫──╫─┤M├\n",
            "          └────────────┘ ║  ║  ║ └╥┘\n",
            "c: 4/════════════════════╩══╩══╩══╩═\n",
            "                         0  1  2  3 \n",
            "Result: IBMDevice, AER_SIMULATOR\n",
            "  Counts: [0, 0, 0, 0, 0, 0, 0, 0, 0, 1024, 0, 0, 0, 0, 0, 0]\n",
            "  Probabilities: [0, 0, 0, 0, 0, 0, 0, 0, 0, 1, 0, 0, 0, 0, 0, 0]\n",
            "  Samples:\n",
            "    State: 1001, Index: 9, Count: 1024, Probability: 1\n",
            "  Error: None\n",
            "     ┌───┐┌────────────┐┌─┐         \n",
            "q_0: ┤ X ├┤3           ├┤M├─────────\n",
            "     └───┘│            │└╥┘┌─┐      \n",
            "q_1: ─────┤2           ├─╫─┤M├──────\n",
            "          │  Control-X │ ║ └╥┘┌─┐   \n",
            "q_2: ─────┤1           ├─╫──╫─┤M├───\n",
            "          │            │ ║  ║ └╥┘┌─┐\n",
            "q_3: ─────┤0           ├─╫──╫──╫─┤M├\n",
            "          └────────────┘ ║  ║  ║ └╥┘\n",
            "c: 4/════════════════════╩══╩══╩══╩═\n",
            "                         0  1  2  3 \n",
            "Result: IBMDevice, AER_SIMULATOR\n",
            "  Counts: [0, 0, 0, 0, 0, 0, 0, 0, 0, 1024, 0, 0, 0, 0, 0, 0]\n",
            "  Probabilities: [0, 0, 0, 0, 0, 0, 0, 0, 0, 1, 0, 0, 0, 0, 0, 0]\n",
            "  Samples:\n",
            "    State: 1001, Index: 9, Count: 1024, Probability: 1\n",
            "  Error: None\n",
            "     ┌───┐┌────────────┐┌─┐         \n",
            "q_0: ┤ X ├┤3           ├┤M├─────────\n",
            "     └───┘│            │└╥┘┌─┐      \n",
            "q_1: ─────┤2           ├─╫─┤M├──────\n",
            "          │  Control-H │ ║ └╥┘┌─┐   \n",
            "q_2: ─────┤1           ├─╫──╫─┤M├───\n",
            "          │            │ ║  ║ └╥┘┌─┐\n",
            "q_3: ─────┤0           ├─╫──╫──╫─┤M├\n",
            "          └────────────┘ ║  ║  ║ └╥┘\n",
            "c: 4/════════════════════╩══╩══╩══╩═\n",
            "                         0  1  2  3 \n",
            "Result: IBMDevice, AER_SIMULATOR\n",
            "  Counts: [0, 0, 0, 0, 0, 0, 0, 0, 501, 523, 0, 0, 0, 0, 0, 0]\n",
            "  Probabilities: [0, 0, 0, 0, 0, 0, 0, 0, 0.48926, 0.51074, 0, 0, 0, 0, 0, 0]\n",
            "  Samples:\n",
            "    State: 1000, Index: 8, Count: 501, Probability: 0.4892578\n",
            "    State: 1001, Index: 9, Count: 523, Probability: 0.5107422\n",
            "  Error: None\n"
          ]
        }
      ],
      "source": [
        "#Test Control-X\n",
        "\n",
        "#Control-X with control qubit 0\n",
        "circuit = QCircuit([control_U(X(0), 0, 3), BasisMeasure([0, 1, 2, 3])])\n",
        "print(circuit)\n",
        "print(run(circuit, IBMDevice.AER_SIMULATOR))\n",
        "\n",
        "#Control-X with control qubit 1\n",
        "circuit = QCircuit([X(0), control_U(X(10000000000000000000000), 0, 3), BasisMeasure([0, 1, 2, 3])])\n",
        "print(circuit)\n",
        "print(run(circuit, IBMDevice.AER_SIMULATOR))\n",
        "\n",
        "#Inverse of Control-X is Control-X\n",
        "circuit = QCircuit([X(0), control_U(X(10000), 0, 3), BasisMeasure([0, 1, 2, 3])])\n",
        "print(circuit)\n",
        "print(run(circuit, IBMDevice.AER_SIMULATOR))\n",
        "\n",
        "#Control-H with control qubit 1\n",
        "circuit = QCircuit([X(0), control_U(H(10000000000000000000000), 0, 3), BasisMeasure([0, 1, 2, 3])])\n",
        "print(circuit)\n",
        "print(run(circuit, IBMDevice.AER_SIMULATOR))"
      ]
    },
    {
      "cell_type": "code",
      "execution_count": 10,
      "metadata": {
        "colab": {
          "base_uri": "https://localhost:8080/"
        },
        "id": "PdRbFyXJ3koA",
        "outputId": "69b322a7-5a02-4a78-ecc3-85f270570103"
      },
      "outputs": [
        {
          "name": "stdout",
          "output_type": "stream",
          "text": [
            "                  ░ ┌───┐                                              »\n",
            "q_0: ─────────────░─┤ H ├──────────────────────────────────────────────»\n",
            "                  ░ ├───┤                                              »\n",
            "q_1: ─────────────░─┤ H ├──────────────────────────────────────────────»\n",
            "                  ░ ├───┤                              ┌──────────────┐»\n",
            "q_2: ─────────────░─┤ H ├──────────────────────────────┤3             ├»\n",
            "                  ░ ├───┤              ┌──────────────┐│              │»\n",
            "q_3: ─────────────░─┤ H ├──────────────┤2             ├┤2             ├»\n",
            "                  ░ ├───┤┌────────────┐│              ││  Control-X^4 │»\n",
            "q_4: ─────────────░─┤ H ├┤1           ├┤1 Control-X^2 ├┤1             ├»\n",
            "     ┌──────────┐ ░ └───┘│  Control-X ││              ││              │»\n",
            "q_5: ┤ U(π,0,0) ├─░──────┤0           ├┤0             ├┤0             ├»\n",
            "     └──────────┘ ░      └────────────┘└──────────────┘└──────────────┘»\n",
            "c: 5/══════════════════════════════════════════════════════════════════»\n",
            "                                                                       »\n",
            "«                     ┌───────────────┐ ░ ┌───┐                           »\n",
            "«q_0: ────────────────┤5              ├─░─┤ H ├─■────────■────────■───────»\n",
            "«     ┌──────────────┐│               │ ░ └───┘ │P(π/2)  │        │       »\n",
            "«q_1: ┤4             ├┤4              ├─░───────■────────┼────────┼───────»\n",
            "«     │              ││               │ ░                │P(π/4)  │       »\n",
            "«q_2: ┤3             ├┤3              ├─░────────────────■────────┼───────»\n",
            "«     │              ││  Control-X^16 │ ░                         │P(π/8) »\n",
            "«q_3: ┤2 Control-X^8 ├┤2              ├─░─────────────────────────■───────»\n",
            "«     │              ││               │ ░                                 »\n",
            "«q_4: ┤1             ├┤1              ├─░─────────────────────────────────»\n",
            "«     │              ││               │ ░                                 »\n",
            "«q_5: ┤0             ├┤0              ├─░─────────────────────────────────»\n",
            "«     └──────────────┘└───────────────┘ ░                                 »\n",
            "«c: 5/════════════════════════════════════════════════════════════════════»\n",
            "«                                                                         »\n",
            "«                ░                                   ░                         »\n",
            "«q_0: ─■─────────░───────────────────────────────────░─────────────────────────»\n",
            "«      │         ░ ┌───┐                             ░                         »\n",
            "«q_1: ─┼─────────░─┤ H ├─■────────■────────■─────────░─────────────────────────»\n",
            "«      │         ░ └───┘ │P(π/4)  │        │         ░ ┌───┐                   »\n",
            "«q_2: ─┼─────────░───────■────────┼────────┼─────────░─┤ H ├─■────────■────────»\n",
            "«      │         ░                │P(π/8)  │         ░ └───┘ │P(π/8)  │        »\n",
            "«q_3: ─┼─────────░────────────────■────────┼─────────░───────■────────┼────────»\n",
            "«      │P(π/16)  ░                         │P(π/16)  ░                │P(π/16) »\n",
            "«q_4: ─■─────────░─────────────────────────■─────────░────────────────■────────»\n",
            "«                ░                                   ░                         »\n",
            "«q_5: ───────────░───────────────────────────────────░─────────────────────────»\n",
            "«                ░                                   ░                         »\n",
            "«c: 5/═════════════════════════════════════════════════════════════════════════»\n",
            "«                                                                              »\n",
            "«      ░                 ░       ░          ┌─┐      \n",
            "«q_0: ─░─────────────────░───────░──X───────┤M├──────\n",
            "«      ░                 ░       ░  │       └╥┘┌─┐   \n",
            "«q_1: ─░─────────────────░───────░──┼──X─────╫─┤M├───\n",
            "«      ░                 ░       ░  │  │ ┌─┐ ║ └╥┘   \n",
            "«q_2: ─░─────────────────░───────░──┼──┼─┤M├─╫──╫────\n",
            "«      ░ ┌───┐           ░       ░  │  │ └╥┘ ║  ║ ┌─┐\n",
            "«q_3: ─░─┤ H ├─■─────────░───────░──┼──X──╫──╫──╫─┤M├\n",
            "«      ░ └───┘ │P(π/16)  ░ ┌───┐ ░  │ ┌─┐ ║  ║  ║ └╥┘\n",
            "«q_4: ─░───────■─────────░─┤ H ├─░──X─┤M├─╫──╫──╫──╫─\n",
            "«      ░                 ░ └───┘ ░    └╥┘ ║  ║  ║  ║ \n",
            "«q_5: ─░─────────────────░───────░─────╫──╫──╫──╫──╫─\n",
            "«      ░                 ░       ░     ║  ║  ║  ║  ║ \n",
            "«c: 5/═════════════════════════════════╩══╩══╩══╩══╩═\n",
            "«                                      4  2  0  1  3 \n"
          ]
        }
      ],
      "source": [
        "from math import sqrt\n",
        "\n",
        "eigenstate = np.array([0, 1])\n",
        "U = X\n",
        "n = 5\n",
        "\n",
        "print(qpe(eigenstate, U, n))"
      ]
    },
    {
      "cell_type": "code",
      "execution_count": 11,
      "metadata": {
        "colab": {
          "base_uri": "https://localhost:8080/"
        },
        "id": "2OmCLIfHokTF",
        "outputId": "7e1aa502-c2a9-427e-fe18-ac77e8cd4bb3"
      },
      "outputs": [
        {
          "name": "stdout",
          "output_type": "stream",
          "text": [
            "                  ░ ┌───┐              ┌──────────────┐ ░ ┌───┐          ░ »\n",
            "q_0: ─────────────░─┤ H ├──────────────┤2             ├─░─┤ H ├─■────────░─»\n",
            "                  ░ ├───┤┌────────────┐│              │ ░ └───┘ │P(π/2)  ░ »\n",
            "q_1: ─────────────░─┤ H ├┤1           ├┤1 Control-Z^2 ├─░───────■────────░─»\n",
            "     ┌──────────┐ ░ └───┘│  Control-Z ││              │ ░                ░ »\n",
            "q_2: ┤ U(π,0,0) ├─░──────┤0           ├┤0             ├─░────────────────░─»\n",
            "     └──────────┘ ░      └────────────┘└──────────────┘ ░                ░ »\n",
            "c: 2/══════════════════════════════════════════════════════════════════════»\n",
            "                                                                           »\n",
            "«           ░    ┌─┐   \n",
            "«q_0: ──────░──X─┤M├───\n",
            "«     ┌───┐ ░  │ └╥┘┌─┐\n",
            "«q_1: ┤ H ├─░──X──╫─┤M├\n",
            "«     └───┘ ░     ║ └╥┘\n",
            "«q_2: ──────░─────╫──╫─\n",
            "«           ░     ║  ║ \n",
            "«c: 2/════════════╩══╩═\n",
            "«                 0  1 \n",
            "(-1+1.2246467991473532e-16j)\n"
          ]
        }
      ],
      "source": [
        "#Test X and n = 1\n",
        "eigenstate = np.array([0, 1])\n",
        "U = Z\n",
        "n = 2 # Because pi can be represented with 2 bits 11 (approximated to 3)\n",
        "\n",
        "print(qpe(eigenstate, U, n))\n",
        "\n",
        "res = run(qpe(eigenstate, U, n), IBMDevice.AER_SIMULATOR)\n",
        "print(toEigenValue(n, res))\n",
        "assert toPhase(n, res) == 1/2 #=> 1/2"
      ]
    },
    {
      "cell_type": "code",
      "execution_count": 12,
      "metadata": {
        "colab": {
          "base_uri": "https://localhost:8080/"
        },
        "id": "6EdFYXPP1lyk",
        "outputId": "32eb6218-3c82-439d-b9c3-4343ad2360f3"
      },
      "outputs": [
        {
          "name": "stdout",
          "output_type": "stream",
          "text": [
            "                         ░ ┌───┐              ┌──────────────┐ ░ ┌───┐         »\n",
            "q_0: ────────────────────░─┤ H ├──────────────┤2             ├─░─┤ H ├─■───────»\n",
            "                         ░ ├───┤┌────────────┐│              │ ░ └───┘ │P(π/2) »\n",
            "q_1: ────────────────────░─┤ H ├┤1           ├┤1 Control-Y^2 ├─░───────■───────»\n",
            "     ┌─────────────────┐ ░ └───┘│  Control-Y ││              │ ░               »\n",
            "q_2: ┤ U(π/2,-π/2,π/2) ├─░──────┤0           ├┤0             ├─░───────────────»\n",
            "     └─────────────────┘ ░      └────────────┘└──────────────┘ ░               »\n",
            "c: 2/══════════════════════════════════════════════════════════════════════════»\n",
            "                                                                               »\n",
            "«      ░       ░    ┌─┐   \n",
            "«q_0: ─░───────░──X─┤M├───\n",
            "«      ░ ┌───┐ ░  │ └╥┘┌─┐\n",
            "«q_1: ─░─┤ H ├─░──X──╫─┤M├\n",
            "«      ░ └───┘ ░     ║ └╥┘\n",
            "«q_2: ─░───────░─────╫──╫─\n",
            "«      ░       ░     ║  ║ \n",
            "«c: 2/═══════════════╩══╩═\n",
            "«                    0  1 \n",
            "Result: IBMDevice, AER_SIMULATOR\n",
            "  Counts: [0, 0, 10000, 0]\n",
            "  Probabilities: [0, 0, 1, 0]\n",
            "  Samples:\n",
            "    State: 010, Index: 2, Count: 10000, Probability: 1\n",
            "  Error: None\n"
          ]
        }
      ],
      "source": [
        "#Y: Y[-i> = - [-i>\n",
        "\n",
        "eigenstate = np.array([1, -1.j]) / sqrt(2) #[-i> = ([0> - j[1>) / sqrt(2) = [1/sqrt(2), -j/sqrt(2)]\n",
        "U = Y\n",
        "n = 2 # Because pi can be represented with 2 bits 11 (approximated to 3)\n",
        "\n",
        "print(qpe(eigenstate, U, n))\n",
        "\n",
        "print(run(qpe(eigenstate, U, n), IBMDevice.AER_SIMULATOR)) #=> 1/2"
      ]
    },
    {
      "cell_type": "code",
      "execution_count": 13,
      "metadata": {
        "colab": {
          "base_uri": "https://localhost:8080/"
        },
        "id": "F-1F0p4IGb3t",
        "outputId": "b44b853d-bf7c-4c32-c1e3-fe0ee84edbdf"
      },
      "outputs": [
        {
          "name": "stdout",
          "output_type": "stream",
          "text": [
            "Result: IBMDevice, AER_SIMULATOR\n",
            "  Counts: [10000, 0, 0, 0, 0, 0, 0, 0, 0, 0, 0, 0, 0, 0, 0, 0, 0, 0, 0, 0, 0, 0, 0, 0, 0, 0, 0, 0, 0, 0, 0, 0]\n",
            "  Probabilities: [1, 0, 0, 0, 0, 0, 0, 0, 0, 0, 0, 0, 0, 0, 0, 0, 0, 0, 0, 0, 0, 0, 0, 0, 0, 0, 0, 0, 0, 0, 0, 0]\n",
            "  Samples:\n",
            "    State: 000000, Index: 0, Count: 10000, Probability: 1\n",
            "  Error: None\n",
            "Result: IBMDevice, AER_SIMULATOR\n",
            "  Counts: [0, 0, 0, 0, 0, 0, 0, 0, 0, 0, 0, 0, 0, 0, 0, 0, 0, 0, 0, 0, 0, 0, 0, 0, 0, 0, 0, 0, 0, 0, 0, 0, 10000, 0, 0, 0, 0, 0, 0, 0, 0, 0, 0, 0, 0, 0, 0, 0, 0, 0, 0, 0, 0, 0, 0, 0, 0, 0, 0, 0, 0, 0, 0, 0]\n",
            "  Probabilities: [0, 0, 0, 0, 0, 0, 0, 0, 0, 0, 0, 0, 0, 0, 0, 0, 0, 0, 0, 0, 0, 0, 0, 0, 0, 0, 0, 0, 0, 0, 0, 0, 1, 0, 0, 0, 0, 0, 0, 0, 0, 0, 0, 0, 0, 0, 0, 0, 0, 0, 0, 0, 0, 0, 0, 0, 0, 0, 0, 0, 0, 0, 0, 0]\n",
            "  Samples:\n",
            "    State: 0100000, Index: 32, Count: 10000, Probability: 1\n",
            "  Error: None\n"
          ]
        }
      ],
      "source": [
        "# Z[0> = exp(0.j) * [0>\n",
        "eigenstate = np.array([1, 0])\n",
        "U = Z\n",
        "n = 5\n",
        "\n",
        "print(run(qpe(eigenstate, U, n), IBMDevice.AER_SIMULATOR))\n",
        "\n",
        "# Z[1> = exp(pi.j) * [1>\n",
        "eigenstate = np.array([0, 1])\n",
        "U = Z\n",
        "n = 6\n",
        "\n",
        "print(run(qpe(eigenstate, U, n), IBMDevice.AER_SIMULATOR))"
      ]
    },
    {
      "cell_type": "code",
      "execution_count": 14,
      "metadata": {
        "colab": {
          "base_uri": "https://localhost:8080/"
        },
        "id": "tDBWboBQrkww",
        "outputId": "d9bacba5-5c58-490e-c889-c5d5866b52ec"
      },
      "outputs": [
        {
          "name": "stdout",
          "output_type": "stream",
          "text": [
            "   ┌────────────┐\n",
            "q: ┤ U(π/2,0,0) ├\n",
            "   └────────────┘\n"
          ]
        }
      ],
      "source": [
        "from math import sqrt\n",
        "circuit = QCircuit.initializer(np.array([1, 1])/sqrt(2))\n",
        "\n",
        "print(circuit)"
      ]
    },
    {
      "cell_type": "code",
      "execution_count": 15,
      "metadata": {
        "colab": {
          "base_uri": "https://localhost:8080/"
        },
        "id": "OzLLVL0YtO9s",
        "outputId": "50186596-7542-48df-9a2a-4cb1867ed80d"
      },
      "outputs": [
        {
          "name": "stdout",
          "output_type": "stream",
          "text": [
            "   ┌──────────┐\n",
            "q: ┤ U(π,0,0) ├\n",
            "   └──────────┘\n"
          ]
        }
      ],
      "source": [
        "circuit = QCircuit.initializer(np.array([0, 1]))\n",
        "\n",
        "print(circuit)"
      ]
    },
    {
      "cell_type": "code",
      "execution_count": 16,
      "metadata": {
        "colab": {
          "base_uri": "https://localhost:8080/"
        },
        "id": "lya-8IPjyY_g",
        "outputId": "d80302aa-73c7-420d-f02d-ecc26f7e4d89"
      },
      "outputs": [
        {
          "name": "stdout",
          "output_type": "stream",
          "text": [
            "   ┌───────────────┐\n",
            "q: ┤ U(2.2143,0,0) ├\n",
            "   └───────────────┘\n"
          ]
        }
      ],
      "source": [
        "circuit = QCircuit.initializer(np.array([sqrt(0.2), sqrt(0.8)]))\n",
        "\n",
        "print(circuit)"
      ]
    },
    {
      "cell_type": "code",
      "execution_count": 17,
      "metadata": {
        "colab": {
          "base_uri": "https://localhost:8080/"
        },
        "id": "KeQYH2JXzkPB",
        "outputId": "8768f78f-8ce3-4f74-e557-91e6bb009afd"
      },
      "outputs": [
        {
          "name": "stdout",
          "output_type": "stream",
          "text": [
            "        ┌────────────┐                            \n",
            "q_0: ───┤ U(π/2,0,0) ├────■───────────────────────\n",
            "     ┌──┴────────────┴─┐┌─┴─┐┌───────────────────┐\n",
            "q_1: ┤ U(π/2,-2π,-π/2) ├┤ X ├┤ U(0,-1.543,1.543) ├\n",
            "     └─────────────────┘└───┘└───────────────────┘\n"
          ]
        }
      ],
      "source": [
        "circuit = QCircuit.initializer(np.array([1, 1, 1, 1]) / sqrt(2))\n",
        "\n",
        "print(circuit)"
      ]
    },
    {
      "cell_type": "code",
      "execution_count": 18,
      "metadata": {
        "colab": {
          "base_uri": "https://localhost:8080/"
        },
        "id": "rviTxH8w6DOY",
        "outputId": "5246b677-fbfe-48e7-bf72-69fb6ae4832e"
      },
      "outputs": [
        {
          "name": "stdout",
          "output_type": "stream",
          "text": [
            "[[1. 0.]\n",
            " [0. 1.]]\n"
          ]
        }
      ],
      "source": [
        "swap_gate = SWAP(0,1)\n",
        "from mpqp.gates import X\n",
        "print((X(1).power(2)).to_matrix())"
      ]
    },
    {
      "cell_type": "code",
      "execution_count": 19,
      "metadata": {
        "id": "7hbQMT9F41Yb"
      },
      "outputs": [],
      "source": [
        "# Euclide algorithm\n",
        "def euclide(a, b):\n",
        "  while b != 0:\n",
        "    tmp = b\n",
        "    b = a % b\n",
        "    a = tmp\n",
        "  return a\n",
        "\n",
        "assert(euclide(21, 15) == 3)\n",
        "assert(euclide(210, 63) == 21)\n",
        "assert(euclide(107, 23) == 1)"
      ]
    },
    {
      "cell_type": "code",
      "execution_count": 20,
      "metadata": {
        "id": "bb3RrYxr6yZ-"
      },
      "outputs": [],
      "source": [
        "import numpy as np\n",
        "\n",
        "# Choose a random integer 'a' which is a factor of 'N'\n",
        "def getFactor(N: int) -> int:\n",
        "  a = np.random.randint(2, N)\n",
        "  while euclide(a, N) == 1:\n",
        "    a = np.random.randint(2, N)\n",
        "  return a\n",
        "\n",
        "a = getFactor(15)"
      ]
    },
    {
      "cell_type": "code",
      "execution_count": 21,
      "metadata": {
        "id": "2jxWJYZ5-U7F"
      },
      "outputs": [],
      "source": [
        "# using continued fractions estimate the period r\n",
        "def continued_fraction(p, q):\n",
        "    a = []\n",
        "    while q:\n",
        "        a.append(p // q)\n",
        "        p, q = q, p % q\n",
        "    return a\n",
        "\n",
        "assert(continued_fraction(9, 4) == [2, 4])\n",
        "assert(continued_fraction(30, 13) == [2, 3, 4])\n",
        "assert(continued_fraction(2, 17) == [0, 8, 2])"
      ]
    },
    {
      "cell_type": "code",
      "execution_count": 22,
      "metadata": {
        "colab": {
          "base_uri": "https://localhost:8080/"
        },
        "id": "i6QApsxg-pgB",
        "outputId": "b5097e23-a869-4b02-f9f5-9478179c8223"
      },
      "outputs": [
        {
          "data": {
            "text/plain": [
              "False"
            ]
          },
          "execution_count": 22,
          "metadata": {},
          "output_type": "execute_result"
        }
      ],
      "source": [
        "def verify_period(a, r, N):\n",
        "  return (a**r) % N == 1\n",
        "\n",
        "verify_period(a, 2, 15)"
      ]
    },
    {
      "cell_type": "code",
      "execution_count": 23,
      "metadata": {
        "id": "Ac8-lLxyHBpY"
      },
      "outputs": [],
      "source": [
        "# Fast exponantiation modulo m\n",
        "def fast_expo(a, n, m=None):\n",
        "  if n == 0:\n",
        "    return 1\n",
        "  b = (a*a)\n",
        "  if m != None:\n",
        "    b = b % m\n",
        "  if n % 2 == 0:\n",
        "    return fast_expo(b, n // 2, m)\n",
        "  return a * fast_expo(b, n // 2, m)\n",
        "\n",
        "assert(fast_expo(2, 8, 10) == 6)\n",
        "assert(fast_expo(3, 5, 10) == 3)"
      ]
    },
    {
      "cell_type": "code",
      "execution_count": 24,
      "metadata": {
        "id": "bBr_4wMyGcZs"
      },
      "outputs": [],
      "source": [
        "def compute_factors(a, r, N):\n",
        "  if r % 2 == 0 and fast_expo(a, r // 2, N) != -1 % N:\n",
        "    p = fast_expo(a, r // 2)\n",
        "    return euclide(p-1, N), euclide(p+1, N)"
      ]
    },
    {
      "cell_type": "code",
      "execution_count": 25,
      "metadata": {},
      "outputs": [
        {
          "name": "stdout",
          "output_type": "stream",
          "text": [
            "                       \n",
            "q_0: ──────────────────\n",
            "                       \n",
            "q_1: ──────────────────\n",
            "     ┌────────────────┐\n",
            "q_2: ┤3               ├\n",
            "     │                │\n",
            "q_3: ┤2               ├\n",
            "     │  a^(2^0) mod N │\n",
            "q_4: ┤1               ├\n",
            "     │                │\n",
            "q_5: ┤0               ├\n",
            "     └────────────────┘\n",
            "                 \n",
            "q_0: ─────■──────\n",
            "          │      \n",
            "q_1: ─────┼──────\n",
            "     ┌────┴─────┐\n",
            "q_2: ┤0         ├\n",
            "     │          │\n",
            "q_3: ┤1         ├\n",
            "     │  Unitary │\n",
            "q_4: ┤2         ├\n",
            "     │          │\n",
            "q_5: ┤3         ├\n",
            "     └──────────┘\n"
          ]
        }
      ],
      "source": [
        "from mpqp.execution.algorithms.shor.quantum.modularExponentiationGate import ME, CME\n",
        "\n",
        "print(ME(2, 11, 0, list(range(2, 6))))\n",
        "print(CME(2, 11, 0, [0],list(range(2, 6))))"
      ]
    },
    {
      "cell_type": "code",
      "execution_count": 26,
      "metadata": {
        "id": "iq62-NqhrQIV"
      },
      "outputs": [],
      "source": [
        "from math import log\n",
        "\n",
        "\"\"\"\n",
        "  a: choosen number, inversible in Zn.\n",
        "  k: repitition number. Represents the exponent of the gate in the shor's qpe.\n",
        "  n: number of bits of the second register. Also represents the number of target qubits\n",
        "    in the shor's qpe\n",
        "  N: number to be factorized\n",
        "\"\"\"\n",
        "\n",
        "def kth_power_a_mod_N_oracle(a, k, N, targets):\n",
        "  #Initialise n\n",
        "  n = floor(log(N - 1, 2)) + 1\n",
        "  assert len(targets) == n\n",
        "\n",
        "  #Initialise b = a^(2^k) mod N\n",
        "  b = fast_expo(a, 2**k, N)\n",
        "\n",
        "  #Initialise the matrix with zeros and dimension 2^n * 2^n\n",
        "  d = fast_expo(2, n)\n",
        "  U = np.zeros((d, d))\n",
        "\n",
        "  #By definition, U[j> = [b * j mod N> for j in {0, ..., N - 1}\n",
        "  for j in range(N):\n",
        "    U[(b * j) % N][j] = 1\n",
        "\n",
        "  #Then the operator is completed to be applied on all integers from 0 to 2 ** n\n",
        "  #Nothing is done for j in {N, ..., 2**n}\n",
        "  for j in range(N, 2**n):\n",
        "    U[j][j] = 1\n",
        "\n",
        "  #U is necessarily unitary as b is inversible in Zn\n",
        "  return CustomGate(UnitaryMatrix(U), targets, 'a^(2^' + str(k) + ') mod N')\n"
      ]
    },
    {
      "cell_type": "code",
      "execution_count": 27,
      "metadata": {
        "colab": {
          "base_uri": "https://localhost:8080/"
        },
        "id": "6wI1gNxotvpt",
        "outputId": "b81f053e-3f1e-442a-ca48-c86dd2686b0a"
      },
      "outputs": [
        {
          "data": {
            "text/plain": [
              "CustomGate(UnitaryMatrix(np.array([[1., 0., 0., 0.], [0., 1., 0., 0.], [0., 0., 1., 0.], [0., 0., 0., 1.]])), [0, 1], \"a^(2^1) mod N\")"
            ]
          },
          "execution_count": 27,
          "metadata": {},
          "output_type": "execute_result"
        }
      ],
      "source": [
        "kth_power_a_mod_N_oracle(2, 1, 3, [0, 1])"
      ]
    },
    {
      "cell_type": "code",
      "execution_count": 28,
      "metadata": {
        "id": "jvWf9WFRmtih"
      },
      "outputs": [],
      "source": [
        "\"\"\"\n",
        "Test: a = 7, N = 15, k = 0.\n",
        "Circuit with gate kth_power_a_mod_N_oracle(7, 0, 15)\n",
        "and initial state 1000 = 8 should return final state 1011 = 11\n",
        "\"\"\"\n",
        "\n",
        "\n",
        "def Test():\n",
        "  a = 7\n",
        "  k = 0\n",
        "  N = 15\n",
        "  n = floor(log(N-1, 2)) + 1\n",
        "  circuit = QCircuit(n)\n",
        "  circuit.add(X(0))\n",
        "  circuit.add(kth_power_a_mod_N_oracle(a, k, N, list(range(4))))\n",
        "  circuit.add(BasisMeasure(list(range(n)), shots=1000))\n",
        "  return getBestGuess(run(circuit, IBMDevice.AER_SIMULATOR))\n",
        "\n",
        "assert Test() == 11\n"
      ]
    },
    {
      "cell_type": "code",
      "execution_count": 29,
      "metadata": {},
      "outputs": [
        {
          "name": "stdout",
          "output_type": "stream",
          "text": [
            "     ┌───┐           ┌─┐   \n",
            "q_0: ┤ X ├─────■─────┤M├───\n",
            "     └───┘┌────┴────┐└╥┘┌─┐\n",
            "q_1: ─────┤ Unitary ├─╫─┤M├\n",
            "          └─────────┘ ║ └╥┘\n",
            "c: 2/═════════════════╩══╩═\n",
            "                      0  1 \n",
            "Result: IBMDevice, AER_SIMULATOR\n",
            "  Counts: [0, 0, 0, 1000]\n",
            "  Probabilities: [0, 0, 0, 1]\n",
            "  Samples:\n",
            "    State: 11, Index: 3, Count: 1000, Probability: 1\n",
            "  Error: None\n"
          ]
        }
      ],
      "source": [
        "# circuit = QCircuit(2)\n",
        "# circuit.add(X(0))\n",
        "# circuit.add(CustomControlledGate([0], X(1)))\n",
        "# circuit.add(BasisMeasure([0, 1], shots=1000))\n",
        "# print(circuit)\n",
        "# print(run(circuit, IBMDevice.AER_SIMULATOR))\n",
        "from mpqp.core.instruction.gates.custom_controlled_gate import CustomControlledGate\n",
        "\n",
        "circuit = QCircuit(2)\n",
        "circuit.add(X(0))\n",
        "circuit.add(CustomControlledGate([0], CustomGate(\n",
        "    UnitaryMatrix(X(1).to_matrix()),\n",
        "    [1])))\n",
        "circuit.add(BasisMeasure([0, 1], shots=1000))\n",
        "print(circuit)\n",
        "\n",
        "\n",
        "print(run(circuit, IBMDevice.AER_SIMULATOR))\n"
      ]
    },
    {
      "cell_type": "code",
      "execution_count": 30,
      "metadata": {},
      "outputs": [],
      "source": [
        "def control_U(U: Gate, control: int, target: int) -> Gate:\n",
        "  assert target > control\n",
        "  #assert U.to_matrix().shape == (2, 2)\n",
        "  U_matrix = U.to_matrix()\n",
        "\n",
        "  r = floor(log(U_matrix.shape[0], 2))\n",
        "  n = target  - control + 1\n",
        "  In = np.eye(2**(n - 1))\n",
        "  In_1 = np.eye(2**(n - 1 - r))\n",
        "  On = np.zeros((2**(n - 1), 2**(n - 1)))\n",
        "\n",
        "  Control_U_matrix = np.block([\n",
        "    [In, On],\n",
        "    [On, np.kron(In_1, U_matrix)]\n",
        "    ])\n",
        "\n",
        "  targets = [i for i in range(control, target + 1)]\n",
        "\n",
        "  return CustomGate(UnitaryMatrix(Control_U_matrix), targets, 'Control-' + U.label)"
      ]
    },
    {
      "cell_type": "code",
      "execution_count": 31,
      "metadata": {},
      "outputs": [
        {
          "name": "stdout",
          "output_type": "stream",
          "text": [
            "     ┌───┐┌────────────┐┌────────────┐┌────────────┐┌─┐                  \n",
            "q_0: ┤ X ├┤4           ├┤5           ├┤6           ├┤M├──────────────────\n",
            "     └───┘│            ││            ││            │└╥┘┌─┐               \n",
            "q_1: ─────┤3           ├┤4           ├┤5           ├─╫─┤M├───────────────\n",
            "          │            ││            ││            │ ║ └╥┘┌─┐            \n",
            "q_2: ─────┤2 Control-X ├┤3           ├┤4           ├─╫──╫─┤M├────────────\n",
            "          │            ││  Control-X ││            │ ║  ║ └╥┘┌─┐         \n",
            "q_3: ─────┤1           ├┤2           ├┤3 Control-X ├─╫──╫──╫─┤M├─────────\n",
            "          │            ││            ││            │ ║  ║  ║ └╥┘┌─┐      \n",
            "q_4: ─────┤0           ├┤1           ├┤2           ├─╫──╫──╫──╫─┤M├──────\n",
            "          └────────────┘│            ││            │ ║  ║  ║  ║ └╥┘┌─┐   \n",
            "q_5: ───────────────────┤0           ├┤1           ├─╫──╫──╫──╫──╫─┤M├───\n",
            "                        └────────────┘│            │ ║  ║  ║  ║  ║ └╥┘┌─┐\n",
            "q_6: ─────────────────────────────────┤0           ├─╫──╫──╫──╫──╫──╫─┤M├\n",
            "                                      └────────────┘ ║  ║  ║  ║  ║  ║ └╥┘\n",
            "c: 7/════════════════════════════════════════════════╩══╩══╩══╩══╩══╩══╩═\n",
            "                                                     0  1  2  3  4  5  6 \n",
            "Result: IBMDevice, AER_SIMULATOR\n",
            "  Counts: [0, 0, 0, 0, 0, 0, 0, 0, 0, 0, 0, 0, 0, 0, 0, 0, 0, 0, 0, 0, 0, 0, 0, 0, 0, 0, 0, 0, 0, 0, 0, 0, 0, 0, 0, 0, 0, 0, 0, 0, 0, 0, 0, 0, 0, 0, 0, 0, 0, 0, 0, 0, 0, 0, 0, 0, 0, 0, 0, 0, 0, 0, 0, 0, 0, 0, 0, 0, 0, 0, 0, 1000, 0, 0, 0, 0, 0, 0, 0, 0, 0, 0, 0, 0, 0, 0, 0, 0, 0, 0, 0, 0, 0, 0, 0, 0, 0, 0, 0, 0, 0, 0, 0, 0, 0, 0, 0, 0, 0, 0, 0, 0, 0, 0, 0, 0, 0, 0, 0, 0, 0, 0, 0, 0, 0, 0, 0, 0]\n",
            "  Probabilities: [0, 0, 0, 0, 0, 0, 0, 0, 0, 0, 0, 0, 0, 0, 0, 0, 0, 0, 0, 0, 0, 0, 0, 0, 0, 0, 0, 0, 0, 0, 0, 0, 0, 0, 0, 0, 0, 0, 0, 0, 0, 0, 0, 0, 0, 0, 0, 0, 0, 0, 0, 0, 0, 0, 0, 0, 0, 0, 0, 0, 0, 0, 0, 0, 0, 0, 0, 0, 0, 0, 0, 1, 0, 0, 0, 0, 0, 0, 0, 0, 0, 0, 0, 0, 0, 0, 0, 0, 0, 0, 0, 0, 0, 0, 0, 0, 0, 0, 0, 0, 0, 0, 0, 0, 0, 0, 0, 0, 0, 0, 0, 0, 0, 0, 0, 0, 0, 0, 0, 0, 0, 0, 0, 0, 0, 0, 0, 0]\n",
            "  Samples:\n",
            "    State: 1000111, Index: 71, Count: 1000, Probability: 1\n",
            "  Error: None\n"
          ]
        }
      ],
      "source": [
        "\n",
        "circuit = QCircuit(7)\n",
        "circuit.add(X(0))\n",
        "\n",
        "my_gate = CustomGate(\n",
        "    UnitaryMatrix(X(1).to_matrix()), \n",
        "    [1],\n",
        "    \"X\"\n",
        ")\n",
        "\n",
        "circuit.add(control_U(my_gate, 0, 4))\n",
        "circuit.add(control_U(my_gate, 0, 5))\n",
        "circuit.add(control_U(my_gate, 0, 6))\n",
        "\n",
        "circuit.add(BasisMeasure([0, 1, 2, 3, 4, 5, 6], shots=1000))\n",
        "\n",
        "print(circuit)\n",
        "print(run(circuit, IBMDevice.AER_SIMULATOR))"
      ]
    },
    {
      "cell_type": "code",
      "execution_count": 38,
      "metadata": {
        "id": "E8mNATRpqz9a"
      },
      "outputs": [
        {
          "name": "stdout",
          "output_type": "stream",
          "text": [
            "            ░ ┌───┐                                                            »\n",
            " q_0: ──────░─┤ H ├─────■──────────────────────────────────────────────────────»\n",
            "            ░ ├───┤     │                                                      »\n",
            " q_1: ──────░─┤ H ├─────┼───────────■──────────────────────────────────────────»\n",
            "            ░ ├───┤     │           │                                          »\n",
            " q_2: ──────░─┤ H ├─────┼───────────┼───────────■──────────────────────────────»\n",
            "            ░ ├───┤     │           │           │                              »\n",
            " q_3: ──────░─┤ H ├─────┼───────────┼───────────┼───────────■──────────────────»\n",
            "            ░ ├───┤     │           │           │           │                  »\n",
            " q_4: ──────░─┤ H ├─────┼───────────┼───────────┼───────────┼───────────■──────»\n",
            "            ░ ├───┤     │           │           │           │           │      »\n",
            " q_5: ──────░─┤ H ├─────┼───────────┼───────────┼───────────┼───────────┼──────»\n",
            "            ░ ├───┤     │           │           │           │           │      »\n",
            " q_6: ──────░─┤ H ├─────┼───────────┼───────────┼───────────┼───────────┼──────»\n",
            "            ░ ├───┤     │           │           │           │           │      »\n",
            " q_7: ──────░─┤ H ├─────┼───────────┼───────────┼───────────┼───────────┼──────»\n",
            "      ┌───┐ ░ └───┘┌────┴─────┐┌────┴─────┐┌────┴─────┐┌────┴─────┐┌────┴─────┐»\n",
            " q_8: ┤ X ├─░──────┤0         ├┤0         ├┤0         ├┤0         ├┤0         ├»\n",
            "      └───┘ ░      │          ││          ││          ││          ││          │»\n",
            " q_9: ──────░──────┤1         ├┤1         ├┤1         ├┤1         ├┤1         ├»\n",
            "            ░      │  Unitary ││  Unitary ││  Unitary ││  Unitary ││  Unitary │»\n",
            "q_10: ──────░──────┤2         ├┤2         ├┤2         ├┤2         ├┤2         ├»\n",
            "            ░      │          ││          ││          ││          ││          │»\n",
            "q_11: ──────░──────┤3         ├┤3         ├┤3         ├┤3         ├┤3         ├»\n",
            "            ░      └──────────┘└──────────┘└──────────┘└──────────┘└──────────┘»\n",
            " c: 8/═════════════════════════════════════════════════════════════════════════»\n",
            "                                                                               »\n",
            "«                                           ░              ░       ░ »\n",
            "« q_0: ─────────────────────────────────────░───────────X──░───────░─»\n",
            "«                                           ░           │  ░       ░ »\n",
            "« q_1: ─────────────────────────────────────░────────X──┼──░───────░─»\n",
            "«                                           ░        │  │  ░       ░ »\n",
            "« q_2: ─────────────────────────────────────░─────X──┼──┼──░───────░─»\n",
            "«                                           ░     │  │  │  ░       ░ »\n",
            "« q_3: ─────────────────────────────────────░──X──┼──┼──┼──░───────░─»\n",
            "«                                           ░  │  │  │  │  ░       ░ »\n",
            "« q_4: ─────────────────────────────────────░──X──┼──┼──┼──░───────░─»\n",
            "«                                           ░     │  │  │  ░       ░ »\n",
            "« q_5: ─────■───────────────────────────────░─────X──┼──┼──░───────░─»\n",
            "«           │                               ░        │  │  ░       ░ »\n",
            "« q_6: ─────┼───────────■───────────────────░────────X──┼──░───────░─»\n",
            "«           │           │                   ░           │  ░ ┌───┐ ░ »\n",
            "« q_7: ─────┼───────────┼───────────■───────░───────────X──░─┤ H ├─░─»\n",
            "«      ┌────┴─────┐┌────┴─────┐┌────┴─────┐ ░              ░ └───┘ ░ »\n",
            "« q_8: ┤0         ├┤0         ├┤0         ├─░──────────────░───────░─»\n",
            "«      │          ││          ││          │ ░              ░       ░ »\n",
            "« q_9: ┤1         ├┤1         ├┤1         ├─░──────────────░───────░─»\n",
            "«      │  Unitary ││  Unitary ││  Unitary │ ░              ░       ░ »\n",
            "«q_10: ┤2         ├┤2         ├┤2         ├─░──────────────░───────░─»\n",
            "«      │          ││          ││          │ ░              ░       ░ »\n",
            "«q_11: ┤3         ├┤3         ├┤3         ├─░──────────────░───────░─»\n",
            "«      └──────────┘└──────────┘└──────────┘ ░              ░       ░ »\n",
            "« c: 8/══════════════════════════════════════════════════════════════»\n",
            "«                                                                    »\n",
            "«                        ░                              ░             »\n",
            "« q_0: ──────────────────░──────────────────────────────░─────────────»\n",
            "«                        ░                              ░             »\n",
            "« q_1: ──────────────────░──────────────────────────────░─────────────»\n",
            "«                        ░                              ░             »\n",
            "« q_2: ──────────────────░──────────────────────────────░─────────────»\n",
            "«                        ░                              ░             »\n",
            "« q_3: ──────────────────░──────────────────────────────░─────────────»\n",
            "«                        ░                              ░             »\n",
            "« q_4: ──────────────────░──────────────────────────────░──■──────────»\n",
            "«                        ░                        ┌───┐ ░  │          »\n",
            "« q_5: ──────────────────░──■───────────■─────────┤ H ├─░──┼──────────»\n",
            "«                  ┌───┐ ░  │           │P(-π/64) └───┘ ░  │          »\n",
            "« q_6: ─■──────────┤ H ├─░──┼───────────■───────────────░──┼──────────»\n",
            "«       │P(-π/128) └───┘ ░  │P(-π/128)                  ░  │P(-π/128) »\n",
            "« q_7: ─■────────────────░──■───────────────────────────░──■──────────»\n",
            "«                        ░                              ░             »\n",
            "« q_8: ──────────────────░──────────────────────────────░─────────────»\n",
            "«                        ░                              ░             »\n",
            "« q_9: ──────────────────░──────────────────────────────░─────────────»\n",
            "«                        ░                              ░             »\n",
            "«q_10: ──────────────────░──────────────────────────────░─────────────»\n",
            "«                        ░                              ░             »\n",
            "«q_11: ──────────────────░──────────────────────────────░─────────────»\n",
            "«                        ░                              ░             »\n",
            "« c: 8/═══════════════════════════════════════════════════════════════»\n",
            "«                                                                     »\n",
            "«                                  ░                                   »\n",
            "« q_0: ────────────────────────────░───────────────────────────────────»\n",
            "«                                  ░                                   »\n",
            "« q_1: ────────────────────────────░───────────────────────────────────»\n",
            "«                                  ░                                   »\n",
            "« q_2: ────────────────────────────░───────────────────────────────────»\n",
            "«                                  ░                                   »\n",
            "« q_3: ────────────────────────────░──■───────────■──────────■─────────»\n",
            "«                            ┌───┐ ░  │           │          │         »\n",
            "« q_4: ─■──────────■─────────┤ H ├─░──┼───────────┼──────────┼─────────»\n",
            "«       │          │P(-π/32) └───┘ ░  │           │          │P(-π/32) »\n",
            "« q_5: ─┼──────────■───────────────░──┼───────────┼──────────■─────────»\n",
            "«       │P(-π/64)                  ░  │           │P(-π/64)            »\n",
            "« q_6: ─■──────────────────────────░──┼───────────■────────────────────»\n",
            "«                                  ░  │P(-π/128)                       »\n",
            "« q_7: ────────────────────────────░──■────────────────────────────────»\n",
            "«                                  ░                                   »\n",
            "« q_8: ────────────────────────────░───────────────────────────────────»\n",
            "«                                  ░                                   »\n",
            "« q_9: ────────────────────────────░───────────────────────────────────»\n",
            "«                                  ░                                   »\n",
            "«q_10: ────────────────────────────░───────────────────────────────────»\n",
            "«                                  ░                                   »\n",
            "«q_11: ────────────────────────────░───────────────────────────────────»\n",
            "«                                  ░                                   »\n",
            "« c: 8/════════════════════════════════════════════════════════════════»\n",
            "«                                                                      »\n",
            "«                       ░                                              »\n",
            "« q_0: ─────────────────░──────────────────────────────────────────────»\n",
            "«                       ░                                              »\n",
            "« q_1: ─────────────────░──────────────────────────────────────────────»\n",
            "«                       ░                                              »\n",
            "« q_2: ─────────────────░──■───────────■──────────■──────────■─────────»\n",
            "«                 ┌───┐ ░  │           │          │          │         »\n",
            "« q_3: ─■─────────┤ H ├─░──┼───────────┼──────────┼──────────┼─────────»\n",
            "«       │P(-π/16) └───┘ ░  │           │          │          │P(-π/16) »\n",
            "« q_4: ─■───────────────░──┼───────────┼──────────┼──────────■─────────»\n",
            "«                       ░  │           │          │P(-π/32)            »\n",
            "« q_5: ─────────────────░──┼───────────┼──────────■────────────────────»\n",
            "«                       ░  │           │P(-π/64)                       »\n",
            "« q_6: ─────────────────░──┼───────────■───────────────────────────────»\n",
            "«                       ░  │P(-π/128)                                  »\n",
            "« q_7: ─────────────────░──■───────────────────────────────────────────»\n",
            "«                       ░                                              »\n",
            "« q_8: ─────────────────░──────────────────────────────────────────────»\n",
            "«                       ░                                              »\n",
            "« q_9: ─────────────────░──────────────────────────────────────────────»\n",
            "«                       ░                                              »\n",
            "«q_10: ─────────────────░──────────────────────────────────────────────»\n",
            "«                       ░                                              »\n",
            "«q_11: ─────────────────░──────────────────────────────────────────────»\n",
            "«                       ░                                              »\n",
            "« c: 8/════════════════════════════════════════════════════════════════»\n",
            "«                                                                      »\n",
            "«                      ░                                              »\n",
            "« q_0: ────────────────░──────────────────────────────────────────────»\n",
            "«                      ░                                              »\n",
            "« q_1: ────────────────░──■───────────■──────────■──────────■─────────»\n",
            "«                ┌───┐ ░  │           │          │          │         »\n",
            "« q_2: ─■────────┤ H ├─░──┼───────────┼──────────┼──────────┼─────────»\n",
            "«       │P(-π/8) └───┘ ░  │           │          │          │         »\n",
            "« q_3: ─■──────────────░──┼───────────┼──────────┼──────────┼─────────»\n",
            "«                      ░  │           │          │          │P(-π/16) »\n",
            "« q_4: ────────────────░──┼───────────┼──────────┼──────────■─────────»\n",
            "«                      ░  │           │          │P(-π/32)            »\n",
            "« q_5: ────────────────░──┼───────────┼──────────■────────────────────»\n",
            "«                      ░  │           │P(-π/64)                       »\n",
            "« q_6: ────────────────░──┼───────────■───────────────────────────────»\n",
            "«                      ░  │P(-π/128)                                  »\n",
            "« q_7: ────────────────░──■───────────────────────────────────────────»\n",
            "«                      ░                                              »\n",
            "« q_8: ────────────────░──────────────────────────────────────────────»\n",
            "«                      ░                                              »\n",
            "« q_9: ────────────────░──────────────────────────────────────────────»\n",
            "«                      ░                                              »\n",
            "«q_10: ────────────────░──────────────────────────────────────────────»\n",
            "«                      ░                                              »\n",
            "«q_11: ────────────────░──────────────────────────────────────────────»\n",
            "«                      ░                                              »\n",
            "« c: 8/═══════════════════════════════════════════════════════════════»\n",
            "«                                                                     »\n",
            "«                                ░                                   »\n",
            "« q_0: ──────────────────────────░──■───────────■──────────■─────────»\n",
            "«                          ┌───┐ ░  │           │          │         »\n",
            "« q_1: ─■─────────■────────┤ H ├─░──┼───────────┼──────────┼─────────»\n",
            "«       │         │P(-π/4) └───┘ ░  │           │          │         »\n",
            "« q_2: ─┼─────────■──────────────░──┼───────────┼──────────┼─────────»\n",
            "«       │P(-π/8)                 ░  │           │          │         »\n",
            "« q_3: ─■────────────────────────░──┼───────────┼──────────┼─────────»\n",
            "«                                ░  │           │          │         »\n",
            "« q_4: ──────────────────────────░──┼───────────┼──────────┼─────────»\n",
            "«                                ░  │           │          │P(-π/32) »\n",
            "« q_5: ──────────────────────────░──┼───────────┼──────────■─────────»\n",
            "«                                ░  │           │P(-π/64)     ┌─┐    »\n",
            "« q_6: ──────────────────────────░──┼───────────■─────────────┤M├────»\n",
            "«                                ░  │P(-π/128)     ┌─┐        └╥┘    »\n",
            "« q_7: ──────────────────────────░──■──────────────┤M├─────────╫─────»\n",
            "«                                ░                 └╥┘         ║     »\n",
            "« q_8: ──────────────────────────░──────────────────╫──────────╫─────»\n",
            "«                                ░                  ║          ║     »\n",
            "« q_9: ──────────────────────────░──────────────────╫──────────╫─────»\n",
            "«                                ░                  ║          ║     »\n",
            "«q_10: ──────────────────────────░──────────────────╫──────────╫─────»\n",
            "«                                ░                  ║          ║     »\n",
            "«q_11: ──────────────────────────░──────────────────╫──────────╫─────»\n",
            "«                                ░                  ║          ║     »\n",
            "« c: 8/═════════════════════════════════════════════╩══════════╩═════»\n",
            "«                                                   7          6     »\n",
            "«                                               ┌───┐┌─┐\n",
            "« q_0: ─■──────────■─────────■─────────■────────┤ H ├┤M├\n",
            "«       │          │         │         │P(-π/2) └┬─┬┘└╥┘\n",
            "« q_1: ─┼──────────┼─────────┼─────────■─────────┤M├──╫─\n",
            "«       │          │         │P(-π/4)    ┌─┐     └╥┘  ║ \n",
            "« q_2: ─┼──────────┼─────────■───────────┤M├──────╫───╫─\n",
            "«       │          │P(-π/8)    ┌─┐       └╥┘      ║   ║ \n",
            "« q_3: ─┼──────────■───────────┤M├────────╫───────╫───╫─\n",
            "«       │P(-π/16)    ┌─┐       └╥┘        ║       ║   ║ \n",
            "« q_4: ─■────────────┤M├────────╫─────────╫───────╫───╫─\n",
            "«          ┌─┐       └╥┘        ║         ║       ║   ║ \n",
            "« q_5: ────┤M├────────╫─────────╫─────────╫───────╫───╫─\n",
            "«          └╥┘        ║         ║         ║       ║   ║ \n",
            "« q_6: ─────╫─────────╫─────────╫─────────╫───────╫───╫─\n",
            "«           ║         ║         ║         ║       ║   ║ \n",
            "« q_7: ─────╫─────────╫─────────╫─────────╫───────╫───╫─\n",
            "«           ║         ║         ║         ║       ║   ║ \n",
            "« q_8: ─────╫─────────╫─────────╫─────────╫───────╫───╫─\n",
            "«           ║         ║         ║         ║       ║   ║ \n",
            "« q_9: ─────╫─────────╫─────────╫─────────╫───────╫───╫─\n",
            "«           ║         ║         ║         ║       ║   ║ \n",
            "«q_10: ─────╫─────────╫─────────╫─────────╫───────╫───╫─\n",
            "«           ║         ║         ║         ║       ║   ║ \n",
            "«q_11: ─────╫─────────╫─────────╫─────────╫───────╫───╫─\n",
            "«           ║         ║         ║         ║       ║   ║ \n",
            "« c: 8/═════╩═════════╩═════════╩═════════╩═══════╩═══╩═\n",
            "«           5         4         3         2       1   0 \n"
          ]
        }
      ],
      "source": [
        "from math import floor, log\n",
        "from mpqp.execution.algorithms.shor.quantum.modularExponentiationGate import CME\n",
        "from mpqp.execution.algorithms.shor.quantum.qft import QFT\n",
        "\n",
        "def qpe(a: int, N: int):\n",
        "  #Initialise the number of target qubits\n",
        "  n = floor(log(N - 1, 2)) + 1\n",
        "\n",
        "  #Circuit with 2*n controls and n targets\n",
        "  circuit = QCircuit(2 * n + n)\n",
        "\n",
        "  #Initialise the state of the targets\n",
        "  circuit.add(X(2 * n))\n",
        "\n",
        "  circuit.add(Barrier())\n",
        "  \n",
        "  for k in range(2 * n):\n",
        "    circuit.add(H(k))\n",
        "    circuit.add(CME(a, N, k, [k], list(range(2 * n, 3 * n))))\n",
        "  \n",
        "  circuit.add(Barrier())\n",
        "\n",
        "  #QFT not QFT inverse (see MAGNIEZ Lecture Notes)\n",
        "  circuit += QFT(range(2 * n)).inverse()\n",
        "\n",
        "  circuit.add(BasisMeasure(list(range(2 * n)), shots=10000))\n",
        "\n",
        "  return circuit\n",
        "\n",
        "N = 11\n",
        "a = 2\n",
        "print(qpe(a, N))"
      ]
    },
    {
      "cell_type": "code",
      "execution_count": 39,
      "metadata": {},
      "outputs": [
        {
          "ename": "ModuleNotFoundError",
          "evalue": "No module named 'mpqp.execution.algorithms.shor.modularExponentiationGate'",
          "output_type": "error",
          "traceback": [
            "\u001b[0;31m---------------------------------------------------------------------------\u001b[0m",
            "\u001b[0;31mModuleNotFoundError\u001b[0m                       Traceback (most recent call last)",
            "Cell \u001b[0;32mIn[39], line 1\u001b[0m\n\u001b[0;32m----> 1\u001b[0m \u001b[38;5;28;01mfrom\u001b[39;00m\u001b[38;5;250m \u001b[39m\u001b[38;5;21;01mmpqp\u001b[39;00m\u001b[38;5;21;01m.\u001b[39;00m\u001b[38;5;21;01mexecution\u001b[39;00m\u001b[38;5;21;01m.\u001b[39;00m\u001b[38;5;21;01malgorithms\u001b[39;00m\u001b[38;5;21;01m.\u001b[39;00m\u001b[38;5;21;01mshor\u001b[39;00m\u001b[38;5;21;01m.\u001b[39;00m\u001b[38;5;21;01mquantum\u001b[39;00m\u001b[38;5;21;01m.\u001b[39;00m\u001b[38;5;21;01mshorCircuit\u001b[39;00m\u001b[38;5;250m \u001b[39m\u001b[38;5;28;01mimport\u001b[39;00m ShorCircuit\n\u001b[1;32m      2\u001b[0m \u001b[38;5;28mprint\u001b[39m(ShorCircuit(\u001b[38;5;241m2\u001b[39m, \u001b[38;5;241m11\u001b[39m))\n",
            "File \u001b[0;32m~/Documents/Epita/Quantum/mpqp/Shor/repo-mpqp/mpqp/execution/algorithms/shor/quantum/shorCircuit.py:4\u001b[0m\n\u001b[1;32m      2\u001b[0m \u001b[38;5;28;01mfrom\u001b[39;00m\u001b[38;5;250m \u001b[39m\u001b[38;5;21;01mmpqp\u001b[39;00m\u001b[38;5;21;01m.\u001b[39;00m\u001b[38;5;21;01mgates\u001b[39;00m\u001b[38;5;250m \u001b[39m\u001b[38;5;28;01mimport\u001b[39;00m H, X\n\u001b[1;32m      3\u001b[0m \u001b[38;5;28;01mfrom\u001b[39;00m\u001b[38;5;250m \u001b[39m\u001b[38;5;21;01mmpqp\u001b[39;00m\u001b[38;5;21;01m.\u001b[39;00m\u001b[38;5;21;01mmeasures\u001b[39;00m\u001b[38;5;250m \u001b[39m\u001b[38;5;28;01mimport\u001b[39;00m BasisMeasure\n\u001b[0;32m----> 4\u001b[0m \u001b[38;5;28;01mfrom\u001b[39;00m\u001b[38;5;250m \u001b[39m\u001b[38;5;21;01mmpqp\u001b[39;00m\u001b[38;5;21;01m.\u001b[39;00m\u001b[38;5;21;01mexecution\u001b[39;00m\u001b[38;5;21;01m.\u001b[39;00m\u001b[38;5;21;01malgorithms\u001b[39;00m\u001b[38;5;21;01m.\u001b[39;00m\u001b[38;5;21;01mshor\u001b[39;00m\u001b[38;5;21;01m.\u001b[39;00m\u001b[38;5;21;01mmodularExponentiationGate\u001b[39;00m\u001b[38;5;250m \u001b[39m\u001b[38;5;28;01mimport\u001b[39;00m CME\n\u001b[1;32m      5\u001b[0m \u001b[38;5;28;01mfrom\u001b[39;00m\u001b[38;5;250m \u001b[39m\u001b[38;5;21;01mmpqp\u001b[39;00m\u001b[38;5;21;01m.\u001b[39;00m\u001b[38;5;21;01mexecution\u001b[39;00m\u001b[38;5;21;01m.\u001b[39;00m\u001b[38;5;21;01malgorithms\u001b[39;00m\u001b[38;5;21;01m.\u001b[39;00m\u001b[38;5;21;01mshor\u001b[39;00m\u001b[38;5;21;01m.\u001b[39;00m\u001b[38;5;21;01mqft\u001b[39;00m\u001b[38;5;250m \u001b[39m\u001b[38;5;28;01mimport\u001b[39;00m QFT\n\u001b[1;32m      7\u001b[0m \u001b[38;5;28;01mfrom\u001b[39;00m\u001b[38;5;250m \u001b[39m\u001b[38;5;21;01mmath\u001b[39;00m\u001b[38;5;250m \u001b[39m\u001b[38;5;28;01mimport\u001b[39;00m floor, log\n",
            "\u001b[0;31mModuleNotFoundError\u001b[0m: No module named 'mpqp.execution.algorithms.shor.modularExponentiationGate'"
          ]
        }
      ],
      "source": [
        "from mpqp.execution.algorithms.shor.quantum.shorCircuit import ShorCircuit\n",
        "print(ShorCircuit(2, 11))"
      ]
    },
    {
      "cell_type": "code",
      "execution_count": null,
      "metadata": {},
      "outputs": [
        {
          "name": "stdout",
          "output_type": "stream",
          "text": [
            "Result: IBMDevice, AER_SIMULATOR\n",
            "  Counts: [990, 1029, 0, 2, 1, 3, 3, 4, 0, 2, 5, 1, 0, 1, 3, 1, 4, 5, 2, 3, 34, 28, 14, 17, 1, 5, 3, 2, 15, 36, 19, 15, 0, 0, 19, 24, 2, 3, 7, 18, 10, 15, 188, 138, 11, 6, 74, 73, 4, 2, 21, 18, 26, 26, 25, 34, 24, 25, 199, 241, 31, 32, 121, 127, 1, 2, 2, 3, 26, 43, 11, 25, 1, 1, 10, 14, 10, 25, 13, 21, 11, 21, 8, 8, 115, 120, 68, 54, 6, 6, 18, 19, 35, 44, 30, 33, 1, 5, 15, 17, 8, 18, 8, 19, 14, 21, 184, 179, 20, 21, 131, 142, 12, 9, 13, 9, 81, 83, 61, 54, 13, 7, 72, 56, 40, 30, 43, 36, 1, 2, 4, 8, 0, 1, 5, 4, 4, 5, 36, 47, 0, 0, 33, 25, 3, 6, 8, 7, 62, 54, 20, 32, 9, 3, 21, 14, 48, 58, 51, 32, 7, 2, 25, 26, 4, 4, 20, 16, 13, 19, 170, 153, 7, 9, 61, 58, 4, 4, 14, 10, 27, 33, 16, 24, 11, 10, 76, 76, 14, 15, 21, 34, 1, 2, 0, 1, 13, 20, 3, 7, 1, 1, 27, 19, 8, 8, 17, 19, 38, 20, 22, 17, 237, 238, 107, 113, 12, 8, 31, 17, 129, 150, 90, 67, 2, 2, 10, 10, 5, 13, 13, 13, 9, 10, 81, 98, 9, 5, 41, 57, 11, 11, 8, 7, 119, 99, 59, 66, 5, 7, 22, 8, 52, 52, 26, 23]\n",
            "  Probabilities: [0.099, 0.1029, 0, 0.0002, 1e-04, 0.0003, 0.0003, 0.0004, 0, 0.0002, 0.0005, 1e-04, 0, 1e-04, 0.0003, 1e-04, 0.0004, 0.0005, 0.0002, 0.0003, 0.0034, 0.0028, 0.0014, 0.0017, 1e-04, 0.0005, 0.0003, 0.0002, 0.0015, 0.0036, 0.0019, 0.0015, 0, 0, 0.0019, 0.0024, 0.0002, 0.0003, 0.0007, 0.0018, 0.001, 0.0015, 0.0188, 0.0138, 0.0011, 0.0006, 0.0074, 0.0073, 0.0004, 0.0002, 0.0021, 0.0018, 0.0026, 0.0026, 0.0025, 0.0034, 0.0024, 0.0025, 0.0199, 0.0241, 0.0031, 0.0032, 0.0121, 0.0127, 1e-04, 0.0002, 0.0002, 0.0003, 0.0026, 0.0043, 0.0011, 0.0025, 1e-04, 1e-04, 0.001, 0.0014, 0.001, 0.0025, 0.0013, 0.0021, 0.0011, 0.0021, 0.0008, 0.0008, 0.0115, 0.012, 0.0068, 0.0054, 0.0006, 0.0006, 0.0018, 0.0019, 0.0035, 0.0044, 0.003, 0.0033, 1e-04, 0.0005, 0.0015, 0.0017, 0.0008, 0.0018, 0.0008, 0.0019, 0.0014, 0.0021, 0.0184, 0.0179, 0.002, 0.0021, 0.0131, 0.0142, 0.0012, 0.0009, 0.0013, 0.0009, 0.0081, 0.0083, 0.0061, 0.0054, 0.0013, 0.0007, 0.0072, 0.0056, 0.004, 0.003, 0.0043, 0.0036, 1e-04, 0.0002, 0.0004, 0.0008, 0, 1e-04, 0.0005, 0.0004, 0.0004, 0.0005, 0.0036, 0.0047, 0, 0, 0.0033, 0.0025, 0.0003, 0.0006, 0.0008, 0.0007, 0.0062, 0.0054, 0.002, 0.0032, 0.0009, 0.0003, 0.0021, 0.0014, 0.0048, 0.0058, 0.0051, 0.0032, 0.0007, 0.0002, 0.0025, 0.0026, 0.0004, 0.0004, 0.002, 0.0016, 0.0013, 0.0019, 0.017, 0.0153, 0.0007, 0.0009, 0.0061, 0.0058, 0.0004, 0.0004, 0.0014, 0.001, 0.0027, 0.0033, 0.0016, 0.0024, 0.0011, 0.001, 0.0076, 0.0076, 0.0014, 0.0015, 0.0021, 0.0034, 1e-04, 0.0002, 0, 1e-04, 0.0013, 0.002, 0.0003, 0.0007, 1e-04, 1e-04, 0.0027, 0.0019, 0.0008, 0.0008, 0.0017, 0.0019, 0.0038, 0.002, 0.0022, 0.0017, 0.0237, 0.0238, 0.0107, 0.0113, 0.0012, 0.0008, 0.0031, 0.0017, 0.0129, 0.015, 0.009, 0.0067, 0.0002, 0.0002, 0.001, 0.001, 0.0005, 0.0013, 0.0013, 0.0013, 0.0009, 0.001, 0.0081, 0.0098, 0.0009, 0.0005, 0.0041, 0.0057, 0.0011, 0.0011, 0.0008, 0.0007, 0.0119, 0.0099, 0.0059, 0.0066, 0.0005, 0.0007, 0.0022, 0.0008, 0.0052, 0.0052, 0.0026, 0.0023]\n",
            "  Samples:\n",
            "    State: 000000000000, Index: 0, Count: 990, Probability: 0.099\n",
            "    State: 000000000001, Index: 1, Count: 1029, Probability: 0.1029\n",
            "    State: 000000000011, Index: 3, Count: 2, Probability: 0.0002\n",
            "    State: 000000000100, Index: 4, Count: 1, Probability: 0.0001\n",
            "    State: 000000000101, Index: 5, Count: 3, Probability: 0.0003\n",
            "    State: 000000000110, Index: 6, Count: 3, Probability: 0.0003\n",
            "    State: 000000000111, Index: 7, Count: 4, Probability: 0.0004\n",
            "    State: 000000001001, Index: 9, Count: 2, Probability: 0.0002\n",
            "    State: 000000001010, Index: 10, Count: 5, Probability: 0.0005\n",
            "    State: 000000001011, Index: 11, Count: 1, Probability: 0.0001\n",
            "    State: 000000001101, Index: 13, Count: 1, Probability: 0.0001\n",
            "    State: 000000001110, Index: 14, Count: 3, Probability: 0.0003\n",
            "    State: 000000001111, Index: 15, Count: 1, Probability: 0.0001\n",
            "    State: 000000010000, Index: 16, Count: 4, Probability: 0.0004\n",
            "    State: 000000010001, Index: 17, Count: 5, Probability: 0.0005\n",
            "    State: 000000010010, Index: 18, Count: 2, Probability: 0.0002\n",
            "    State: 000000010011, Index: 19, Count: 3, Probability: 0.0003\n",
            "    State: 000000010100, Index: 20, Count: 34, Probability: 0.0034\n",
            "    State: 000000010101, Index: 21, Count: 28, Probability: 0.0028\n",
            "    State: 000000010110, Index: 22, Count: 14, Probability: 0.0014\n",
            "    State: 000000010111, Index: 23, Count: 17, Probability: 0.0017\n",
            "    State: 000000011000, Index: 24, Count: 1, Probability: 0.0001\n",
            "    State: 000000011001, Index: 25, Count: 5, Probability: 0.0005\n",
            "    State: 000000011010, Index: 26, Count: 3, Probability: 0.0003\n",
            "    State: 000000011011, Index: 27, Count: 2, Probability: 0.0002\n",
            "    State: 000000011100, Index: 28, Count: 15, Probability: 0.0015\n",
            "    State: 000000011101, Index: 29, Count: 36, Probability: 0.0036\n",
            "    State: 000000011110, Index: 30, Count: 19, Probability: 0.0019\n",
            "    State: 000000011111, Index: 31, Count: 15, Probability: 0.0015\n",
            "    State: 000000100010, Index: 34, Count: 19, Probability: 0.0019\n",
            "    State: 000000100011, Index: 35, Count: 24, Probability: 0.0024\n",
            "    State: 000000100100, Index: 36, Count: 2, Probability: 0.0002\n",
            "    State: 000000100101, Index: 37, Count: 3, Probability: 0.0003\n",
            "    State: 000000100110, Index: 38, Count: 7, Probability: 0.0007\n",
            "    State: 000000100111, Index: 39, Count: 18, Probability: 0.0018\n",
            "    State: 000000101000, Index: 40, Count: 10, Probability: 0.001\n",
            "    State: 000000101001, Index: 41, Count: 15, Probability: 0.0015\n",
            "    State: 000000101010, Index: 42, Count: 188, Probability: 0.0188\n",
            "    State: 000000101011, Index: 43, Count: 138, Probability: 0.0138\n",
            "    State: 000000101100, Index: 44, Count: 11, Probability: 0.0011\n",
            "    State: 000000101101, Index: 45, Count: 6, Probability: 0.0006\n",
            "    State: 000000101110, Index: 46, Count: 74, Probability: 0.0074\n",
            "    State: 000000101111, Index: 47, Count: 73, Probability: 0.0073\n",
            "    State: 000000110000, Index: 48, Count: 4, Probability: 0.0004\n",
            "    State: 000000110001, Index: 49, Count: 2, Probability: 0.0002\n",
            "    State: 000000110010, Index: 50, Count: 21, Probability: 0.0021\n",
            "    State: 000000110011, Index: 51, Count: 18, Probability: 0.0018\n",
            "    State: 000000110100, Index: 52, Count: 26, Probability: 0.0026\n",
            "    State: 000000110101, Index: 53, Count: 26, Probability: 0.0026\n",
            "    State: 000000110110, Index: 54, Count: 25, Probability: 0.0025\n",
            "    State: 000000110111, Index: 55, Count: 34, Probability: 0.0034\n",
            "    State: 000000111000, Index: 56, Count: 24, Probability: 0.0024\n",
            "    State: 000000111001, Index: 57, Count: 25, Probability: 0.0025\n",
            "    State: 000000111010, Index: 58, Count: 199, Probability: 0.0199\n",
            "    State: 000000111011, Index: 59, Count: 241, Probability: 0.0241\n",
            "    State: 000000111100, Index: 60, Count: 31, Probability: 0.0031\n",
            "    State: 000000111101, Index: 61, Count: 32, Probability: 0.0032\n",
            "    State: 000000111110, Index: 62, Count: 121, Probability: 0.0121\n",
            "    State: 000000111111, Index: 63, Count: 127, Probability: 0.0127\n",
            "    State: 000001000000, Index: 64, Count: 1, Probability: 0.0001\n",
            "    State: 000001000001, Index: 65, Count: 2, Probability: 0.0002\n",
            "    State: 000001000010, Index: 66, Count: 2, Probability: 0.0002\n",
            "    State: 000001000011, Index: 67, Count: 3, Probability: 0.0003\n",
            "    State: 000001000100, Index: 68, Count: 26, Probability: 0.0026\n",
            "    State: 000001000101, Index: 69, Count: 43, Probability: 0.0043\n",
            "    State: 000001000110, Index: 70, Count: 11, Probability: 0.0011\n",
            "    State: 000001000111, Index: 71, Count: 25, Probability: 0.0025\n",
            "    State: 000001001000, Index: 72, Count: 1, Probability: 0.0001\n",
            "    State: 000001001001, Index: 73, Count: 1, Probability: 0.0001\n",
            "    State: 000001001010, Index: 74, Count: 10, Probability: 0.001\n",
            "    State: 000001001011, Index: 75, Count: 14, Probability: 0.0014\n",
            "    State: 000001001100, Index: 76, Count: 10, Probability: 0.001\n",
            "    State: 000001001101, Index: 77, Count: 25, Probability: 0.0025\n",
            "    State: 000001001110, Index: 78, Count: 13, Probability: 0.0013\n",
            "    State: 000001001111, Index: 79, Count: 21, Probability: 0.0021\n",
            "    State: 000001010000, Index: 80, Count: 11, Probability: 0.0011\n",
            "    State: 000001010001, Index: 81, Count: 21, Probability: 0.0021\n",
            "    State: 000001010010, Index: 82, Count: 8, Probability: 0.0008\n",
            "    State: 000001010011, Index: 83, Count: 8, Probability: 0.0008\n",
            "    State: 000001010100, Index: 84, Count: 115, Probability: 0.0115\n",
            "    State: 000001010101, Index: 85, Count: 120, Probability: 0.012\n",
            "    State: 000001010110, Index: 86, Count: 68, Probability: 0.0068\n",
            "    State: 000001010111, Index: 87, Count: 54, Probability: 0.0054\n",
            "    State: 000001011000, Index: 88, Count: 6, Probability: 0.0006\n",
            "    State: 000001011001, Index: 89, Count: 6, Probability: 0.0006\n",
            "    State: 000001011010, Index: 90, Count: 18, Probability: 0.0018\n",
            "    State: 000001011011, Index: 91, Count: 19, Probability: 0.0019\n",
            "    State: 000001011100, Index: 92, Count: 35, Probability: 0.0035\n",
            "    State: 000001011101, Index: 93, Count: 44, Probability: 0.0044\n",
            "    State: 000001011110, Index: 94, Count: 30, Probability: 0.003\n",
            "    State: 000001011111, Index: 95, Count: 33, Probability: 0.0033\n",
            "    State: 000001100000, Index: 96, Count: 1, Probability: 0.0001\n",
            "    State: 000001100001, Index: 97, Count: 5, Probability: 0.0005\n",
            "    State: 000001100010, Index: 98, Count: 15, Probability: 0.0015\n",
            "    State: 000001100011, Index: 99, Count: 17, Probability: 0.0017\n",
            "    State: 000001100100, Index: 100, Count: 8, Probability: 0.0008\n",
            "    State: 000001100101, Index: 101, Count: 18, Probability: 0.0018\n",
            "    State: 000001100110, Index: 102, Count: 8, Probability: 0.0008\n",
            "    State: 000001100111, Index: 103, Count: 19, Probability: 0.0019\n",
            "    State: 000001101000, Index: 104, Count: 14, Probability: 0.0014\n",
            "    State: 000001101001, Index: 105, Count: 21, Probability: 0.0021\n",
            "    State: 000001101010, Index: 106, Count: 184, Probability: 0.0184\n",
            "    State: 000001101011, Index: 107, Count: 179, Probability: 0.0179\n",
            "    State: 000001101100, Index: 108, Count: 20, Probability: 0.002\n",
            "    State: 000001101101, Index: 109, Count: 21, Probability: 0.0021\n",
            "    State: 000001101110, Index: 110, Count: 131, Probability: 0.0131\n",
            "    State: 000001101111, Index: 111, Count: 142, Probability: 0.0142\n",
            "    State: 000001110000, Index: 112, Count: 12, Probability: 0.0012\n",
            "    State: 000001110001, Index: 113, Count: 9, Probability: 0.0009\n",
            "    State: 000001110010, Index: 114, Count: 13, Probability: 0.0013\n",
            "    State: 000001110011, Index: 115, Count: 9, Probability: 0.0009\n",
            "    State: 000001110100, Index: 116, Count: 81, Probability: 0.0081\n",
            "    State: 000001110101, Index: 117, Count: 83, Probability: 0.0083\n",
            "    State: 000001110110, Index: 118, Count: 61, Probability: 0.0061\n",
            "    State: 000001110111, Index: 119, Count: 54, Probability: 0.0054\n",
            "    State: 000001111000, Index: 120, Count: 13, Probability: 0.0013\n",
            "    State: 000001111001, Index: 121, Count: 7, Probability: 0.0007\n",
            "    State: 000001111010, Index: 122, Count: 72, Probability: 0.0072\n",
            "    State: 000001111011, Index: 123, Count: 56, Probability: 0.0056\n",
            "    State: 000001111100, Index: 124, Count: 40, Probability: 0.004\n",
            "    State: 000001111101, Index: 125, Count: 30, Probability: 0.003\n",
            "    State: 000001111110, Index: 126, Count: 43, Probability: 0.0043\n",
            "    State: 000001111111, Index: 127, Count: 36, Probability: 0.0036\n",
            "    State: 000010000000, Index: 128, Count: 1, Probability: 0.0001\n",
            "    State: 000010000001, Index: 129, Count: 2, Probability: 0.0002\n",
            "    State: 000010000010, Index: 130, Count: 4, Probability: 0.0004\n",
            "    State: 000010000011, Index: 131, Count: 8, Probability: 0.0008\n",
            "    State: 000010000101, Index: 133, Count: 1, Probability: 0.0001\n",
            "    State: 000010000110, Index: 134, Count: 5, Probability: 0.0005\n",
            "    State: 000010000111, Index: 135, Count: 4, Probability: 0.0004\n",
            "    State: 000010001000, Index: 136, Count: 4, Probability: 0.0004\n",
            "    State: 000010001001, Index: 137, Count: 5, Probability: 0.0005\n",
            "    State: 000010001010, Index: 138, Count: 36, Probability: 0.0036\n",
            "    State: 000010001011, Index: 139, Count: 47, Probability: 0.0047\n",
            "    State: 000010001110, Index: 142, Count: 33, Probability: 0.0033\n",
            "    State: 000010001111, Index: 143, Count: 25, Probability: 0.0025\n",
            "    State: 000010010000, Index: 144, Count: 3, Probability: 0.0003\n",
            "    State: 000010010001, Index: 145, Count: 6, Probability: 0.0006\n",
            "    State: 000010010010, Index: 146, Count: 8, Probability: 0.0008\n",
            "    State: 000010010011, Index: 147, Count: 7, Probability: 0.0007\n",
            "    State: 000010010100, Index: 148, Count: 62, Probability: 0.0062\n",
            "    State: 000010010101, Index: 149, Count: 54, Probability: 0.0054\n",
            "    State: 000010010110, Index: 150, Count: 20, Probability: 0.002\n",
            "    State: 000010010111, Index: 151, Count: 32, Probability: 0.0032\n",
            "    State: 000010011000, Index: 152, Count: 9, Probability: 0.0009\n",
            "    State: 000010011001, Index: 153, Count: 3, Probability: 0.0003\n",
            "    State: 000010011010, Index: 154, Count: 21, Probability: 0.0021\n",
            "    State: 000010011011, Index: 155, Count: 14, Probability: 0.0014\n",
            "    State: 000010011100, Index: 156, Count: 48, Probability: 0.0048\n",
            "    State: 000010011101, Index: 157, Count: 58, Probability: 0.0058\n",
            "    State: 000010011110, Index: 158, Count: 51, Probability: 0.0051\n",
            "    State: 000010011111, Index: 159, Count: 32, Probability: 0.0032\n",
            "    State: 000010100000, Index: 160, Count: 7, Probability: 0.0007\n",
            "    State: 000010100001, Index: 161, Count: 2, Probability: 0.0002\n",
            "    State: 000010100010, Index: 162, Count: 25, Probability: 0.0025\n",
            "    State: 000010100011, Index: 163, Count: 26, Probability: 0.0026\n",
            "    State: 000010100100, Index: 164, Count: 4, Probability: 0.0004\n",
            "    State: 000010100101, Index: 165, Count: 4, Probability: 0.0004\n",
            "    State: 000010100110, Index: 166, Count: 20, Probability: 0.002\n",
            "    State: 000010100111, Index: 167, Count: 16, Probability: 0.0016\n",
            "    State: 000010101000, Index: 168, Count: 13, Probability: 0.0013\n",
            "    State: 000010101001, Index: 169, Count: 19, Probability: 0.0019\n",
            "    State: 000010101010, Index: 170, Count: 170, Probability: 0.017\n",
            "    State: 000010101011, Index: 171, Count: 153, Probability: 0.0153\n",
            "    State: 000010101100, Index: 172, Count: 7, Probability: 0.0007\n",
            "    State: 000010101101, Index: 173, Count: 9, Probability: 0.0009\n",
            "    State: 000010101110, Index: 174, Count: 61, Probability: 0.0061\n",
            "    State: 000010101111, Index: 175, Count: 58, Probability: 0.0058\n",
            "    State: 000010110000, Index: 176, Count: 4, Probability: 0.0004\n",
            "    State: 000010110001, Index: 177, Count: 4, Probability: 0.0004\n",
            "    State: 000010110010, Index: 178, Count: 14, Probability: 0.0014\n",
            "    State: 000010110011, Index: 179, Count: 10, Probability: 0.001\n",
            "    State: 000010110100, Index: 180, Count: 27, Probability: 0.0027\n",
            "    State: 000010110101, Index: 181, Count: 33, Probability: 0.0033\n",
            "    State: 000010110110, Index: 182, Count: 16, Probability: 0.0016\n",
            "    State: 000010110111, Index: 183, Count: 24, Probability: 0.0024\n",
            "    State: 000010111000, Index: 184, Count: 11, Probability: 0.0011\n",
            "    State: 000010111001, Index: 185, Count: 10, Probability: 0.001\n",
            "    State: 000010111010, Index: 186, Count: 76, Probability: 0.0076\n",
            "    State: 000010111011, Index: 187, Count: 76, Probability: 0.0076\n",
            "    State: 000010111100, Index: 188, Count: 14, Probability: 0.0014\n",
            "    State: 000010111101, Index: 189, Count: 15, Probability: 0.0015\n",
            "    State: 000010111110, Index: 190, Count: 21, Probability: 0.0021\n",
            "    State: 000010111111, Index: 191, Count: 34, Probability: 0.0034\n",
            "    State: 000011000000, Index: 192, Count: 1, Probability: 0.0001\n",
            "    State: 000011000001, Index: 193, Count: 2, Probability: 0.0002\n",
            "    State: 000011000011, Index: 195, Count: 1, Probability: 0.0001\n",
            "    State: 000011000100, Index: 196, Count: 13, Probability: 0.0013\n",
            "    State: 000011000101, Index: 197, Count: 20, Probability: 0.002\n",
            "    State: 000011000110, Index: 198, Count: 3, Probability: 0.0003\n",
            "    State: 000011000111, Index: 199, Count: 7, Probability: 0.0007\n",
            "    State: 000011001000, Index: 200, Count: 1, Probability: 0.0001\n",
            "    State: 000011001001, Index: 201, Count: 1, Probability: 0.0001\n",
            "    State: 000011001010, Index: 202, Count: 27, Probability: 0.0027\n",
            "    State: 000011001011, Index: 203, Count: 19, Probability: 0.0019\n",
            "    State: 000011001100, Index: 204, Count: 8, Probability: 0.0008\n",
            "    State: 000011001101, Index: 205, Count: 8, Probability: 0.0008\n",
            "    State: 000011001110, Index: 206, Count: 17, Probability: 0.0017\n",
            "    State: 000011001111, Index: 207, Count: 19, Probability: 0.0019\n",
            "    State: 000011010000, Index: 208, Count: 38, Probability: 0.0038\n",
            "    State: 000011010001, Index: 209, Count: 20, Probability: 0.002\n",
            "    State: 000011010010, Index: 210, Count: 22, Probability: 0.0022\n",
            "    State: 000011010011, Index: 211, Count: 17, Probability: 0.0017\n",
            "    State: 000011010100, Index: 212, Count: 237, Probability: 0.0237\n",
            "    State: 000011010101, Index: 213, Count: 238, Probability: 0.0238\n",
            "    State: 000011010110, Index: 214, Count: 107, Probability: 0.0107\n",
            "    State: 000011010111, Index: 215, Count: 113, Probability: 0.0113\n",
            "    State: 000011011000, Index: 216, Count: 12, Probability: 0.0012\n",
            "    State: 000011011001, Index: 217, Count: 8, Probability: 0.0008\n",
            "    State: 000011011010, Index: 218, Count: 31, Probability: 0.0031\n",
            "    State: 000011011011, Index: 219, Count: 17, Probability: 0.0017\n",
            "    State: 000011011100, Index: 220, Count: 129, Probability: 0.0129\n",
            "    State: 000011011101, Index: 221, Count: 150, Probability: 0.015\n",
            "    State: 000011011110, Index: 222, Count: 90, Probability: 0.009\n",
            "    State: 000011011111, Index: 223, Count: 67, Probability: 0.0067\n",
            "    State: 000011100000, Index: 224, Count: 2, Probability: 0.0002\n",
            "    State: 000011100001, Index: 225, Count: 2, Probability: 0.0002\n",
            "    State: 000011100010, Index: 226, Count: 10, Probability: 0.001\n",
            "    State: 000011100011, Index: 227, Count: 10, Probability: 0.001\n",
            "    State: 000011100100, Index: 228, Count: 5, Probability: 0.0005\n",
            "    State: 000011100101, Index: 229, Count: 13, Probability: 0.0013\n",
            "    State: 000011100110, Index: 230, Count: 13, Probability: 0.0013\n",
            "    State: 000011100111, Index: 231, Count: 13, Probability: 0.0013\n",
            "    State: 000011101000, Index: 232, Count: 9, Probability: 0.0009\n",
            "    State: 000011101001, Index: 233, Count: 10, Probability: 0.001\n",
            "    State: 000011101010, Index: 234, Count: 81, Probability: 0.0081\n",
            "    State: 000011101011, Index: 235, Count: 98, Probability: 0.0098\n",
            "    State: 000011101100, Index: 236, Count: 9, Probability: 0.0009\n",
            "    State: 000011101101, Index: 237, Count: 5, Probability: 0.0005\n",
            "    State: 000011101110, Index: 238, Count: 41, Probability: 0.0041\n",
            "    State: 000011101111, Index: 239, Count: 57, Probability: 0.0057\n",
            "    State: 000011110000, Index: 240, Count: 11, Probability: 0.0011\n",
            "    State: 000011110001, Index: 241, Count: 11, Probability: 0.0011\n",
            "    State: 000011110010, Index: 242, Count: 8, Probability: 0.0008\n",
            "    State: 000011110011, Index: 243, Count: 7, Probability: 0.0007\n",
            "    State: 000011110100, Index: 244, Count: 119, Probability: 0.0119\n",
            "    State: 000011110101, Index: 245, Count: 99, Probability: 0.0099\n",
            "    State: 000011110110, Index: 246, Count: 59, Probability: 0.0059\n",
            "    State: 000011110111, Index: 247, Count: 66, Probability: 0.0066\n",
            "    State: 000011111000, Index: 248, Count: 5, Probability: 0.0005\n",
            "    State: 000011111001, Index: 249, Count: 7, Probability: 0.0007\n",
            "    State: 000011111010, Index: 250, Count: 22, Probability: 0.0022\n",
            "    State: 000011111011, Index: 251, Count: 8, Probability: 0.0008\n",
            "    State: 000011111100, Index: 252, Count: 52, Probability: 0.0052\n",
            "    State: 000011111101, Index: 253, Count: 52, Probability: 0.0052\n",
            "    State: 000011111110, Index: 254, Count: 26, Probability: 0.0026\n",
            "    State: 000011111111, Index: 255, Count: 23, Probability: 0.0023\n",
            "  Error: None\n"
          ]
        }
      ],
      "source": [
        "print(run(qpe(2, 11), IBMDevice.AER_SIMULATOR))\n",
        "\n",
        "##"
      ]
    }
  ],
  "metadata": {
    "colab": {
      "gpuType": "T4",
      "provenance": []
    },
    "kernelspec": {
      "display_name": "Python 3",
      "language": "python",
      "name": "python3"
    },
    "language_info": {
      "codemirror_mode": {
        "name": "ipython",
        "version": 3
      },
      "file_extension": ".py",
      "mimetype": "text/x-python",
      "name": "python",
      "nbconvert_exporter": "python",
      "pygments_lexer": "ipython3",
      "version": "3.9.13"
    }
  },
  "nbformat": 4,
  "nbformat_minor": 0
}
