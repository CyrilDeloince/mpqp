{
 "cells": [
  {
   "cell_type": "code",
   "execution_count": 1,
   "id": "24dd1d5a",
   "metadata": {},
   "outputs": [],
   "source": [
    "from mpqp.all import *"
   ]
  },
  {
   "cell_type": "code",
   "execution_count": 2,
   "id": "aa1f242f",
   "metadata": {},
   "outputs": [
    {
     "name": "stdout",
     "output_type": "stream",
     "text": [
      "OPENQASM 2.0;\n",
      "include \"qelib1.inc\";\n",
      "qreg q[2];\n",
      "creg c[2];\n",
      "h q;\n",
      "cx q[0],q[1];\n",
      "measure q -> c;\n"
     ]
    }
   ],
   "source": [
    "from mpqp.qasm.mpqp_to_qasm import mpqp_to_qasm2\n",
    "\n",
    "\n",
    "circuit = QCircuit([H(0), H(1), CNOT(0, 1), BasisMeasure()])\n",
    "qasm_code, gphase = mpqp_to_qasm2(circuit, simplify=True)\n",
    "print(qasm_code)"
   ]
  },
  {
   "cell_type": "code",
   "execution_count": 4,
   "id": "0e9c9e3f",
   "metadata": {},
   "outputs": [
    {
     "name": "stdout",
     "output_type": "stream",
     "text": [
      "complex128\n"
     ]
    }
   ],
   "source": [
    "from scipy.stats import unitary_group\n",
    "\n",
    "U = unitary_group.rvs(8)\n",
    "print(U.dtype)"
   ]
  },
  {
   "cell_type": "code",
   "execution_count": 5,
   "id": "8a08b07f",
   "metadata": {},
   "outputs": [
    {
     "name": "stdout",
     "output_type": "stream",
     "text": [
      "          ┌──────────┐     ┌───┐\n",
      "q_0: ─────┤2         ├──■──┤ X ├\n",
      "     ┌───┐│          │┌─┴─┐└───┘\n",
      "q_1: ┤ Y ├┤1 Unitary ├┤ Y ├─────\n",
      "     └───┘│          │└─┬─┘     \n",
      "q_2: ─────┤0         ├──■───────\n",
      "          └──────────┘          \n"
     ]
    }
   ],
   "source": [
    "circuit = QCircuit(3)\n",
    "circuit.add(Y(1))\n",
    "circuit.add(CustomGate(UnitaryMatrix(U), [0, 1, 2]))\n",
    "circuit.add(CustomControlledGate([0, 2], [1], Y))\n",
    "circuit.add(X(0))\n",
    "print(circuit)"
   ]
  },
  {
   "cell_type": "code",
   "execution_count": 9,
   "id": "6812c017",
   "metadata": {},
   "outputs": [
    {
     "name": "stderr",
     "output_type": "stream",
     "text": [
      "c:\\Users\\MathieuGras\\Desktop\\mpqp\\mpqp\\qasm\\open_qasm_2_and_3.py:341: OpenQASMTranslationWarning: \n",
      "There is a phase e^(i(a+c)/2) difference between U(a,b,c) gate in 2.0 and 3.0.\n",
      "We handled that for you by adding the extra phase at the right place. \n",
      "Be careful if you want to create a control gate from this circuit/gate, the\n",
      "phase can become non-global.\n",
      "  warn(\n",
      "c:\\Users\\MathieuGras\\Desktop\\mpqp\\mpqp\\qasm\\qasm_to_braket.py:137: UnsupportedBraketFeaturesWarning: \n",
      "This program uses OpenQASM language features that may not be supported on QPUs or on-demand simulators.\n",
      "  warnings.warn(\n"
     ]
    },
    {
     "name": "stdout",
     "output_type": "stream",
     "text": [
      "oh yeah\n"
     ]
    }
   ],
   "source": [
    "circuit.to_other_language(Language.CIRQ)\n",
    "circuit.to_other_language(Language.BRAKET)\n",
    "circuit.to_other_language(Language.QASM2)\n",
    "circuit.to_other_language(Language.QASM3)\n",
    "circuit.to_other_language(Language.QISKIT)\n",
    "circuit.to_other_language(Language.MY_QLM)\n",
    "print('oh yeah')"
   ]
  },
  {
   "cell_type": "code",
   "execution_count": 6,
   "id": "dc520667",
   "metadata": {},
   "outputs": [
    {
     "name": "stdout",
     "output_type": "stream",
     "text": [
      "True\n"
     ]
    }
   ],
   "source": [
    "print(any(isinstance(x, CustomControlledGate) for x in circuit.gates))"
   ]
  }
 ],
 "metadata": {
  "kernelspec": {
   "display_name": "Python 3",
   "language": "python",
   "name": "python3"
  },
  "language_info": {
   "codemirror_mode": {
    "name": "ipython",
    "version": 3
   },
   "file_extension": ".py",
   "mimetype": "text/x-python",
   "name": "python",
   "nbconvert_exporter": "python",
   "pygments_lexer": "ipython3",
   "version": "3.11.9"
  }
 },
 "nbformat": 4,
 "nbformat_minor": 5
}
