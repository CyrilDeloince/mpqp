{
 "cells": [
  {
   "cell_type": "code",
   "execution_count": 1,
   "id": "4f4e2570",
   "metadata": {},
   "outputs": [],
   "source": [
    "from mpqp.all import *\n",
    "from mpqp.core.instruction.gates import *"
   ]
  },
  {
   "cell_type": "code",
   "execution_count": 2,
   "id": "7a401a7b",
   "metadata": {},
   "outputs": [],
   "source": [
    "from mpqp.core.instruction.gates.controlled_custom_gate import CustomControlledGate\n",
    "\n",
    "circuit = QCircuit()\n",
    "\n",
    "gate = CustomControlledGate(\n",
    "    [0, 3], [1, 2], np.kron(np.eye(2), Y(0).to_canonical_matrix()), 'COUI'\n",
    ")\n",
    "circuit.add(gate)\n",
    "cirq = QCircuit()\n",
    "gate = CustomControlledGate([0, 2], 1, Y, 'COUI')\n",
    "cirq.add(gate)"
   ]
  },
  {
   "cell_type": "code",
   "execution_count": null,
   "id": "0f092d01",
   "metadata": {},
   "outputs": [
    {
     "name": "stdout",
     "output_type": "stream",
     "text": [
      "True\n",
      "2.1851964152825047\n",
      "True\n",
      "[[-0.57647-0.81712j, 0                , 0                , 0                , 0                , 0               , 0                , 0                ],\n",
      " [0                , -0.57647-0.81712j, 0                , 0                , 0                , 0               , 0                , 0                ],\n",
      " [0                , 0                , -0.57647-0.81712j, 0                , 0                , 0               , 0                , 0                ],\n",
      " [0                , 0                , 0                , -0.57647-0.81712j, 0                , 0               , 0                , 0                ],\n",
      " [0                , 0                , 0                , 0                , -0.57647-0.81712j, 0               , 0                , 0                ],\n",
      " [0                , 0                , 0                , 0                , 0                , 0               , 0                , -0.81712+0.57647j],\n",
      " [0                , 0                , 0                , 0                , 0                , 0               , -0.57647-0.81712j, 0                ],\n",
      " [0                , 0                , 0                , 0                , 0                , 0.81712-0.57647j, 0                , 0                ]]\n",
      "2.1851964152825047\n",
      "(1.0000000000000007+1.6653345369377348e-16j)\n"
     ]
    }
   ],
   "source": [
    "from mpqp import qasm\n",
    "from mpqp.tools.maths import matrix_eq\n",
    "from mpqp.core.instruction.gates.controlled_custom_gate import CustomControlledGate\n",
    "\n",
    "circuit = QCircuit()\n",
    "gate = CustomControlledGate([0, 2], [1], Y(0).to_canonical_matrix(), 'COUI')\n",
    "circuit.add(gate)\n",
    "qasm2 = circuit.to_other_language(Language.QASM2)\n",
    "print(\n",
    "    matrix_eq(\n",
    "        qasm.qasm2_parse(qasm2).to_matrix() * np.exp(1j * circuit.gphase),\n",
    "        circuit.to_matrix(),\n",
    "    )\n",
    ")\n",
    "m = qasm.qasm2_parse(qasm2).to_matrix()\n",
    "pprint(m)\n",
    "print(circuit.gphase)\n",
    "print(m[0][0] * np.exp(1j * circuit.gphase))"
   ]
  },
  {
   "cell_type": "code",
   "execution_count": 16,
   "id": "1ef4f7dc",
   "metadata": {},
   "outputs": [
    {
     "name": "stdout",
     "output_type": "stream",
     "text": [
      "          \n",
      "q_0: ──■──\n",
      "     ┌─┴─┐\n",
      "q_1: ┤ Y ├\n",
      "     └─┬─┘\n",
      "q_2: ──■──\n",
      "          \n",
      "                 \n",
      "q_0: ─────■──────\n",
      "     ┌────┴─────┐\n",
      "q_1: ┤0         ├\n",
      "     │  Unitary │\n",
      "q_2: ┤1         ├\n",
      "     └────┬─────┘\n",
      "q_3: ─────■──────\n",
      "                 \n",
      "[CustomControlledGate([0, 2],[1])]\n"
     ]
    }
   ],
   "source": [
    "print(cirq)\n",
    "print(circuit)\n",
    "print(cirq.instructions)"
   ]
  },
  {
   "cell_type": "code",
   "execution_count": 4,
   "id": "939dc72c",
   "metadata": {},
   "outputs": [
    {
     "ename": "AttributeError",
     "evalue": "module 'mpqp.core.instruction.gates.gate' has no attribute 'to_other_language'",
     "output_type": "error",
     "traceback": [
      "\u001b[1;31m---------------------------------------------------------------------------\u001b[0m",
      "\u001b[1;31mAttributeError\u001b[0m                            Traceback (most recent call last)",
      "Cell \u001b[1;32mIn[4], line 5\u001b[0m\n\u001b[0;32m      3\u001b[0m circuit \u001b[38;5;241m=\u001b[39m QCircuit(\u001b[38;5;241m3\u001b[39m)\n\u001b[0;32m      4\u001b[0m init \u001b[38;5;241m=\u001b[39m circuit\u001b[38;5;241m.\u001b[39mto_other_language(Language\u001b[38;5;241m.\u001b[39mQASM2)\n\u001b[1;32m----> 5\u001b[0m gates, phase \u001b[38;5;241m=\u001b[39m \u001b[43mgate\u001b[49m\u001b[38;5;241;43m.\u001b[39;49m\u001b[43mto_other_language\u001b[49m(Language\u001b[38;5;241m.\u001b[39mQASM2)\n\u001b[0;32m      6\u001b[0m circuit \u001b[38;5;241m=\u001b[39m qasm2_parse(init \u001b[38;5;241m+\u001b[39m gates)\n\u001b[0;32m      7\u001b[0m pprint(circuit\u001b[38;5;241m.\u001b[39mto_matrix())\n",
      "\u001b[1;31mAttributeError\u001b[0m: module 'mpqp.core.instruction.gates.gate' has no attribute 'to_other_language'"
     ]
    }
   ],
   "source": [
    "from mpqp.qasm.qasm_to_mpqp import qasm2_parse\n",
    "\n",
    "circuit = QCircuit(3)\n",
    "init = circuit.to_other_language(Language.QASM2)\n",
    "gates, phase = gate.to_other_language(Language.QASM2)\n",
    "circuit = qasm2_parse(init + gates)\n",
    "pprint(circuit.to_matrix())\n",
    "print()\n",
    "pprint(gate.to_matrix())"
   ]
  },
  {
   "cell_type": "code",
   "execution_count": null,
   "id": "36a90243",
   "metadata": {},
   "outputs": [
    {
     "name": "stdout",
     "output_type": "stream",
     "text": [
      "[CNOT(1, 0), U(0, -0.19634954084936207, -0.19634954084936207, 0), CNOT(2, 0), U(0, -2.945243112740431, -2.945243112740431, 0), CNOT(1, 0), U(0, -0.19634954084936207, -0.19634954084936207, 0), CNOT(2, 0), U(0, -2.945243112740431, -2.945243112740431, 0), U(0, 0, 0.39269908169872414, 2), CNOT(1, 2), U(0, 0, -0.39269908169872414, 2), CNOT(1, 2), P(0.39269908169872414, 1), Ry(1.5707963267948966, 0), TOF([1, 2], 0), Ry(-1.5707963267948966, 0), TOF([1, 2], 0), CNOT(1, 0), U(0, -0.19634954084936207, -0.19634954084936207, 0), CNOT(2, 0), U(0, -2.945243112740431, -2.945243112740431, 0), CNOT(1, 0), U(0, -0.19634954084936207, -0.19634954084936207, 0), CNOT(2, 0), U(0, -2.945243112740431, -2.945243112740431, 0), U(0, 0, 0.39269908169872414, 2), CNOT(1, 2), U(0, 0, -0.39269908169872414, 2), CNOT(1, 2), P(0.39269908169872414, 1)]\n",
      "[[1, 0, 0, 0, 0, 0, 0 , 0  ],\n",
      " [0, 1, 0, 0, 0, 0, 0 , 0  ],\n",
      " [0, 0, 1, 0, 0, 0, 0 , 0  ],\n",
      " [0, 0, 0, 1, 0, 0, 0 , 0  ],\n",
      " [0, 0, 0, 0, 1, 0, 0 , 0  ],\n",
      " [0, 0, 0, 0, 0, 1, 0 , 0  ],\n",
      " [0, 0, 0, 0, 0, 0, 0 , -1j],\n",
      " [0, 0, 0, 0, 0, 0, 1j, 0  ]]\n"
     ]
    }
   ],
   "source": [
    "test = circuit.to_other_language()\n",
    "print(circuit.instructions)\n",
    "test.draw('mpl')\n",
    "import qiskit.quantum_info as qi\n",
    "\n",
    "op = qi.Operator(test)\n",
    "pprint(op.to_matrix())"
   ]
  },
  {
   "cell_type": "code",
   "execution_count": null,
   "id": "45b799c8",
   "metadata": {},
   "outputs": [],
   "source": []
  },
  {
   "cell_type": "markdown",
   "id": "be646828",
   "metadata": {},
   "source": [
    "Testing QSD optimization for Rz"
   ]
  },
  {
   "cell_type": "code",
   "execution_count": null,
   "id": "f67c64a4",
   "metadata": {},
   "outputs": [],
   "source": [
    "control = list(range(2))\n",
    "target = len(control)\n",
    "Cz = CustomControlledGate(control, target, Z)"
   ]
  },
  {
   "cell_type": "code",
   "execution_count": null,
   "id": "6b80c6d3",
   "metadata": {},
   "outputs": [],
   "source": [
    "circuit = QCircuit(target + 1)\n",
    "circuit.add(Ry(np.pi / 2, target))\n",
    "circuit.add(CustomControlledGate(control, target, X))\n",
    "circuit.add(Ry(-np.pi / 2, target))"
   ]
  },
  {
   "cell_type": "code",
   "execution_count": null,
   "id": "c205ebdd",
   "metadata": {},
   "outputs": [
    {
     "name": "stdout",
     "output_type": "stream",
     "text": [
      "True\n",
      "True\n",
      "True\n",
      "True\n",
      "True\n",
      "True\n"
     ]
    }
   ],
   "source": [
    "from mpqp.tools import matrix_eq\n",
    "\n",
    "for i in range(2, 8):\n",
    "    control = list(range(i))\n",
    "    target = len(control)\n",
    "    Cz = CustomControlledGate(control, target, Z)\n",
    "    circuit = QCircuit(target + 1)\n",
    "    circuit.add(Ry(np.pi / 2, target))\n",
    "    circuit.add(CustomControlledGate(control, target, X))\n",
    "    circuit.add(Ry(-np.pi / 2, target))\n",
    "    print(matrix_eq(circuit.to_matrix(), Cz.to_matrix()))"
   ]
  },
  {
   "cell_type": "code",
   "execution_count": 24,
   "id": "a831841d",
   "metadata": {},
   "outputs": [
    {
     "name": "stdout",
     "output_type": "stream",
     "text": [
      "[[1, 0, 0, 0, 0, 0, 0, 0, 0, 0, 0 , 0 , 0, 0, 0  , 0  ],\n",
      " [0, 1, 0, 0, 0, 0, 0, 0, 0, 0, 0 , 0 , 0, 0, 0  , 0  ],\n",
      " [0, 0, 1, 0, 0, 0, 0, 0, 0, 0, 0 , 0 , 0, 0, 0  , 0  ],\n",
      " [0, 0, 0, 1, 0, 0, 0, 0, 0, 0, 0 , 0 , 0, 0, 0  , 0  ],\n",
      " [0, 0, 0, 0, 1, 0, 0, 0, 0, 0, 0 , 0 , 0, 0, 0  , 0  ],\n",
      " [0, 0, 0, 0, 0, 1, 0, 0, 0, 0, 0 , 0 , 0, 0, 0  , 0  ],\n",
      " [0, 0, 0, 0, 0, 0, 1, 0, 0, 0, 0 , 0 , 0, 0, 0  , 0  ],\n",
      " [0, 0, 0, 0, 0, 0, 0, 1, 0, 0, 0 , 0 , 0, 0, 0  , 0  ],\n",
      " [0, 0, 0, 0, 0, 0, 0, 0, 1, 0, 0 , 0 , 0, 0, 0  , 0  ],\n",
      " [0, 0, 0, 0, 0, 0, 0, 0, 0, 1, 0 , 0 , 0, 0, 0  , 0  ],\n",
      " [0, 0, 0, 0, 0, 0, 0, 0, 0, 0, 0 , 0 , 0, 0, -1j, 0  ],\n",
      " [0, 0, 0, 0, 0, 0, 0, 0, 0, 0, 0 , 0 , 0, 0, 0  , -1j],\n",
      " [0, 0, 0, 0, 0, 0, 0, 0, 0, 0, 0 , 0 , 1, 0, 0  , 0  ],\n",
      " [0, 0, 0, 0, 0, 0, 0, 0, 0, 0, 0 , 0 , 0, 1, 0  , 0  ],\n",
      " [0, 0, 0, 0, 0, 0, 0, 0, 0, 0, 1j, 0 , 0, 0, 0  , 0  ],\n",
      " [0, 0, 0, 0, 0, 0, 0, 0, 0, 0, 0 , 1j, 0, 0, 0  , 0  ]]\n",
      "          \n",
      "q_0: ──■──\n",
      "     ┌─┴─┐\n",
      "q_1: ┤ Y ├\n",
      "     └─┬─┘\n",
      "q_2: ──■──\n",
      "          \n",
      "q_3: ─────\n",
      "          \n"
     ]
    }
   ],
   "source": [
    "circuit = QCircuit(4)\n",
    "gate = CustomControlledGate([0, 2], 1, Y, 'COUI')\n",
    "circuit.add(gate)\n",
    "pprint(circuit.to_matrix())\n",
    "print(circuit)"
   ]
  },
  {
   "cell_type": "code",
   "execution_count": null,
   "id": "dc00f1ea",
   "metadata": {},
   "outputs": [
    {
     "name": "stdout",
     "output_type": "stream",
     "text": [
      "Result(backend_name='aer_simulator', backend_version='0.15.1', qobj_id='', job_id='e0537370-2336-42a5-a0ed-41c99b38b856', success=True, results=[ExperimentResult(shots=1024, success=True, meas_level=2, data=ExperimentResultData(), header=QobjExperimentHeader(creg_sizes=[], global_phase=0.0, memory_slots=0, n_qubits=4, name='circuit-1014', qreg_sizes=[['q', 4]], metadata={}), status=DONE, seed_simulator=325299428, metadata={'batched_shots_optimization': False, 'required_memory_mb': 0, 'method': 'stabilizer', 'active_input_qubits': [], 'device': 'CPU', 'remapped_qubits': False, 'num_qubits': 0, 'num_clbits': 0, 'time_taken': 8.7e-06, 'input_qubit_map': [], 'max_memory_mb': 16036, 'measure_sampling': False, 'parallel_shots': 1, 'parallel_state_update': 12, 'runtime_parameter_bind': False, 'num_bind_params': 1}, time_taken=8.7e-06)], date=2025-05-07T10:59:26.208467, status=COMPLETED, header=None, metadata={'omp_enabled': True, 'parallel_experiments': 1, 'max_memory_mb': 16036, 'max_gpu_memory_mb': 0, 'time_taken_execute': 3.7e-05, 'time_taken_parameter_binding': 3.5e-06}, time_taken=0.0)\n"
     ]
    }
   ],
   "source": [
    "from qiskit_aer import AerSimulator\n",
    "from qiskit import transpile\n",
    "\n",
    "circuit = circuit.to_other_language()\n",
    "backend = AerSimulator()\n",
    "\n",
    "circuit_t = transpile(circuit, backend)  # needed to compute ccg\n",
    "circuit_t.draw('mpl')\n",
    "res = backend.run(circuit_t)\n",
    "print(res.result())"
   ]
  }
 ],
 "metadata": {
  "kernelspec": {
   "display_name": "Python 3",
   "language": "python",
   "name": "python3"
  },
  "language_info": {
   "codemirror_mode": {
    "name": "ipython",
    "version": 3
   },
   "file_extension": ".py",
   "mimetype": "text/x-python",
   "name": "python",
   "nbconvert_exporter": "python",
   "pygments_lexer": "ipython3",
   "version": "3.11.9"
  }
 },
 "nbformat": 4,
 "nbformat_minor": 5
}
